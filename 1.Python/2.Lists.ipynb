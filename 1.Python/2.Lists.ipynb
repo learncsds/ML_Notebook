{
 "cells": [
  {
   "cell_type": "markdown",
   "metadata": {},
   "source": [
    "## Lists\n",
    "\n",
    "Python doesn't have arrays like in C++ or Java. To hold the sequence of values, Python has 'List' class. List can hold  different data types as values though usually values with same data type are inserted.\n",
    "\n",
    "Lists are mutable in Python i.e., We can modify an element in a list and Python will not create a new list if we modify an element of the list.\n",
    "\n",
    "Python list is enclosed between square([]) brackets and elements are stored in the index basis with starting index 0. it is a list of comma-separated values (items) between square brackets\n",
    "\n"
   ]
  },
  {
   "cell_type": "code",
   "execution_count": null,
   "metadata": {},
   "outputs": [],
   "source": [
    "#Empty list\n",
    "\n",
    "basic_empty_list = []\n",
    "print(basic_empty_list)"
   ]
  },
  {
   "cell_type": "code",
   "execution_count": null,
   "metadata": {},
   "outputs": [],
   "source": [
    "# Create a list by putting different comma-separated values between square brackets\n",
    "# List can accept multiple data types\n",
    "\n",
    "super_heroes = ['Iron Man','Thor', 'Hulk', 'Captain America', 'Spyder Man', 4, 6.7]\n",
    "print(super_heroes)"
   ]
  },
  {
   "cell_type": "code",
   "execution_count": 29,
   "metadata": {},
   "outputs": [
    {
     "data": {
      "text/plain": [
       "2"
      ]
     },
     "execution_count": 29,
     "metadata": {},
     "output_type": "execute_result"
    }
   ],
   "source": [
    "newlist = [4,3,2,3,4,7,3,1,5,2,4,5,2,5]\n",
    "newlist.index(2,2)"
   ]
  },
  {
   "cell_type": "code",
   "execution_count": 3,
   "metadata": {},
   "outputs": [
    {
     "data": {
      "text/plain": [
       "['Iron Man',\n",
       " 'Thor',\n",
       " 'Hulk',\n",
       " 'Captain America',\n",
       " 'Spyder Man',\n",
       " 4,\n",
       " 6.7,\n",
       " 36,\n",
       " 49,\n",
       " 64,\n",
       " 81,\n",
       " 100]"
      ]
     },
     "execution_count": 3,
     "metadata": {},
     "output_type": "execute_result"
    }
   ],
   "source": [
    "#Add two lists\n",
    "\n",
    "super_heroes + [36, 49, 64, 81, 100]"
   ]
  },
  {
   "cell_type": "code",
   "execution_count": 4,
   "metadata": {},
   "outputs": [
    {
     "name": "stdout",
     "output_type": "stream",
     "text": [
      "Iron Man\n"
     ]
    }
   ],
   "source": [
    "# Access first value in the list. Indexing in List starts from 0  i.e. 0,1,2,3,4.....\n",
    "\n",
    "print(super_heroes[0])"
   ]
  },
  {
   "cell_type": "code",
   "execution_count": 5,
   "metadata": {},
   "outputs": [
    {
     "name": "stdout",
     "output_type": "stream",
     "text": [
      "['Thor', 'Hulk']\n"
     ]
    }
   ],
   "source": [
    "# Access from second value till third value in the list. List[start:end]  Start index in inclusive and end index is exclusive.\n",
    "\n",
    "print(super_heroes[1:3])\n"
   ]
  },
  {
   "cell_type": "code",
   "execution_count": 6,
   "metadata": {},
   "outputs": [
    {
     "name": "stdout",
     "output_type": "stream",
     "text": [
      "['Iron Man', 'Thor']\n"
     ]
    }
   ],
   "source": [
    "# Access from first value till second value in the list.\n",
    "\n",
    "print(super_heroes[0:2])"
   ]
  },
  {
   "cell_type": "code",
   "execution_count": 7,
   "metadata": {},
   "outputs": [
    {
     "name": "stdout",
     "output_type": "stream",
     "text": [
      "6.7\n"
     ]
    }
   ],
   "source": [
    "# Backward indexing. -1 denotes first value when we do indexing from backward\n",
    "\n",
    "print(super_heroes[-1])"
   ]
  },
  {
   "cell_type": "code",
   "execution_count": 8,
   "metadata": {},
   "outputs": [
    {
     "name": "stdout",
     "output_type": "stream",
     "text": [
      "['Hulk', 'Captain America', 'Spyder Man', 4, 6.7]\n"
     ]
    }
   ],
   "source": [
    "# From third value(Index 2) till last value\n",
    "\n",
    "print(super_heroes[2:])"
   ]
  },
  {
   "cell_type": "code",
   "execution_count": 9,
   "metadata": {},
   "outputs": [
    {
     "name": "stdout",
     "output_type": "stream",
     "text": [
      "['Iron Man', 'Thor', 'Hulk', 'Captain America']\n"
     ]
    }
   ],
   "source": [
    "# From first value till third from the other side\n",
    "\n",
    "print(super_heroes[ : -3])"
   ]
  },
  {
   "cell_type": "code",
   "execution_count": 10,
   "metadata": {},
   "outputs": [
    {
     "name": "stdout",
     "output_type": "stream",
     "text": [
      "['Bat Man', 'Super Man', 'Krish', 'Vision', 4, 'Sakthi Man']\n"
     ]
    }
   ],
   "source": [
    "#Appending a new value to the list. it gets added to the end of the list but next time when you access order is not guaranteed\n",
    "\n",
    "super_heroes = ['Bat Man','Super Man', 'Krish', 'Vision', 4]\n",
    "super_heroes.append('Sakthi Man')\n",
    "print(super_heroes)"
   ]
  },
  {
   "cell_type": "code",
   "execution_count": 11,
   "metadata": {},
   "outputs": [
    {
     "data": {
      "text/plain": [
       "'Sakthi Man'"
      ]
     },
     "execution_count": 11,
     "metadata": {},
     "output_type": "execute_result"
    }
   ],
   "source": [
    "#Select and remove the latest inserted value from the list\n",
    "\n",
    "super_heroes.pop()"
   ]
  },
  {
   "cell_type": "code",
   "execution_count": 12,
   "metadata": {},
   "outputs": [
    {
     "name": "stdout",
     "output_type": "stream",
     "text": [
      "['Bat Man', 'Super Man', 'Krish', 'Vision', 4]\n"
     ]
    }
   ],
   "source": [
    "print(super_heroes)"
   ]
  },
  {
   "cell_type": "code",
   "execution_count": 13,
   "metadata": {},
   "outputs": [
    {
     "name": "stdout",
     "output_type": "stream",
     "text": [
      "['Super Man', 'Krish', 'Vision', 4]\n"
     ]
    }
   ],
   "source": [
    "#Remove the indexed value from the list.  Here index = 0 value (Batman) gets deleted\n",
    "\n",
    "super_heroes.pop(0) \n",
    "print(super_heroes)"
   ]
  },
  {
   "cell_type": "code",
   "execution_count": 15,
   "metadata": {},
   "outputs": [
    {
     "name": "stdout",
     "output_type": "stream",
     "text": [
      "['Super Man', 4]\n"
     ]
    }
   ],
   "source": [
    "#Remove the indexed value from the list. Here index = 1 value (Krish) gets deleted\n",
    "\n",
    "super_heroes.pop(1)\n",
    "print(super_heroes)"
   ]
  },
  {
   "cell_type": "code",
   "execution_count": 16,
   "metadata": {},
   "outputs": [
    {
     "name": "stdout",
     "output_type": "stream",
     "text": [
      "['Super Man', 4, 'Black Panther']\n",
      "['Super Man', 4]\n"
     ]
    }
   ],
   "source": [
    "#Removing an element from the list\n",
    "\n",
    "super_heroes.append('Black Panther')\n",
    "print(super_heroes)\n",
    "super_heroes.remove('Black Panther')\n",
    "print(super_heroes)\n"
   ]
  },
  {
   "cell_type": "code",
   "execution_count": 17,
   "metadata": {},
   "outputs": [
    {
     "name": "stdout",
     "output_type": "stream",
     "text": [
      "None\n",
      "['Super Man', 4, 'Black Panther']\n"
     ]
    }
   ],
   "source": [
    "#Adding it back\n",
    "\n",
    "print(super_heroes.append('Black Panther'))\n",
    "print(super_heroes)"
   ]
  },
  {
   "cell_type": "code",
   "execution_count": 18,
   "metadata": {},
   "outputs": [
    {
     "name": "stdout",
     "output_type": "stream",
     "text": [
      "['Super Man', 4, 'Black Panther', 'Black Widow']\n"
     ]
    }
   ],
   "source": [
    "#Assigning the list to another list. When you assign the list as a whole new list is not created. Only the refernce changes.\n",
    "# Both the lists point to same memory location and change in reference reflects in other reference.\n",
    "\n",
    "new_list = super_heroes\n",
    "super_heroes.append('Black Widow')\n",
    "print(new_list)\n"
   ]
  },
  {
   "cell_type": "code",
   "execution_count": 19,
   "metadata": {},
   "outputs": [
    {
     "name": "stdout",
     "output_type": "stream",
     "text": [
      "2021712599368\n"
     ]
    }
   ],
   "source": [
    "# Unique id of the list\n",
    "\n",
    "print(id(super_heroes))"
   ]
  },
  {
   "cell_type": "code",
   "execution_count": 20,
   "metadata": {},
   "outputs": [
    {
     "name": "stdout",
     "output_type": "stream",
     "text": [
      "2021712599368\n"
     ]
    }
   ],
   "source": [
    "# Unique id of the list. You can observe both the lists have same unique id\n",
    "print(id(new_list))"
   ]
  },
  {
   "cell_type": "code",
   "execution_count": 21,
   "metadata": {},
   "outputs": [
    {
     "name": "stdout",
     "output_type": "stream",
     "text": [
      "2021712534984\n"
     ]
    }
   ],
   "source": [
    "# When we subset a list and assign it to new list, then new list gets created.\n",
    "\n",
    "new_list = super_heroes[:]\n",
    "print(id(new_list))"
   ]
  },
  {
   "cell_type": "code",
   "execution_count": 22,
   "metadata": {},
   "outputs": [
    {
     "name": "stdout",
     "output_type": "stream",
     "text": [
      "2021712534600\n"
     ]
    }
   ],
   "source": [
    "#copy() creates a new list in the memory\n",
    "\n",
    "another_list = super_heroes.copy()\n",
    "print(id(another_list))"
   ]
  },
  {
   "cell_type": "code",
   "execution_count": 23,
   "metadata": {},
   "outputs": [],
   "source": [
    "python_history = \"Python has been in the industry for the last 3 decades. It pre-dates many of the modern programming languages.\""
   ]
  },
  {
   "cell_type": "code",
   "execution_count": 24,
   "metadata": {},
   "outputs": [
    {
     "name": "stdout",
     "output_type": "stream",
     "text": [
      "['Python', 'has', 'been', 'in', 'the', 'industry', 'for', 'the', 'last', '3', 'decades.', 'It', 'pre-dates', 'many', 'of', 'the', 'modern', 'programming', 'languages.']\n"
     ]
    }
   ],
   "source": [
    "#Split the string based on the default space. Result is list of strings\n",
    "\n",
    "words_in_python_history = python_history.split(' ') \n",
    "print(words_in_python_history)"
   ]
  },
  {
   "cell_type": "code",
   "execution_count": 25,
   "metadata": {},
   "outputs": [],
   "source": [
    "python_history_more= \"Python has been in the industry for the last 3 decades. It pre-dates many of the modern programming languages. Nice to know!\""
   ]
  },
  {
   "cell_type": "code",
   "execution_count": 26,
   "metadata": {},
   "outputs": [
    {
     "name": "stdout",
     "output_type": "stream",
     "text": [
      "['Python has been in the industry for the last 3 decades', ' It pre-dates many of the modern programming languages', ' Nice to know!']\n"
     ]
    }
   ],
   "source": [
    "#Split the string based on '.'\n",
    "\n",
    "sentences_in_history = python_history_more.split('.')\n",
    "print(sentences_in_history)"
   ]
  },
  {
   "cell_type": "code",
   "execution_count": 27,
   "metadata": {},
   "outputs": [
    {
     "name": "stdout",
     "output_type": "stream",
     "text": [
      "Python has been in the industry for the last 3 decades# It pre-dates many of the modern programming languages# Nice to know!\n"
     ]
    }
   ],
   "source": [
    "#Join the string elements in a list with \" \"\n",
    "\n",
    "history = \"#\".join(sentences_in_history)\n",
    "print(history)"
   ]
  },
  {
   "cell_type": "code",
   "execution_count": 28,
   "metadata": {},
   "outputs": [
    {
     "name": "stdout",
     "output_type": "stream",
     "text": [
      "Python has been in the industry for the last 3 decades &  It pre-dates many of the modern programming languages &  Nice to know!\n"
     ]
    }
   ],
   "source": [
    "#Join the elements in a list with \" & \"\n",
    "\n",
    "history_new = \" & \".join(sentences_in_history)\n",
    "print(history_new)"
   ]
  },
  {
   "cell_type": "code",
   "execution_count": 29,
   "metadata": {},
   "outputs": [
    {
     "name": "stdout",
     "output_type": "stream",
     "text": [
      "['Hi', 'Hi', 'Hi', 'Hi', 'Hi']\n",
      "['Hi']\n"
     ]
    }
   ],
   "source": [
    "# Print the element 5 times. But there wont be any change in the original list\n",
    "\n",
    "my_list = [\"Hi\"]\n",
    "print(my_list*5)\n",
    "print(my_list)"
   ]
  },
  {
   "cell_type": "code",
   "execution_count": 30,
   "metadata": {},
   "outputs": [
    {
     "name": "stdout",
     "output_type": "stream",
     "text": [
      "['Hi', 'Hi']\n"
     ]
    }
   ],
   "source": [
    "#Add two lists\n",
    "\n",
    "print(my_list + my_list)"
   ]
  },
  {
   "cell_type": "code",
   "execution_count": 31,
   "metadata": {},
   "outputs": [
    {
     "name": "stdout",
     "output_type": "stream",
     "text": [
      "6\n"
     ]
    }
   ],
   "source": [
    "# Number of elements in a list\n",
    "\n",
    "nums = [2,6,9,3,2,1]\n",
    "print(len(nums))"
   ]
  },
  {
   "cell_type": "code",
   "execution_count": 32,
   "metadata": {},
   "outputs": [
    {
     "name": "stdout",
     "output_type": "stream",
     "text": [
      "[1, 2, 2, 3, 6, 9]\n"
     ]
    }
   ],
   "source": [
    "#Sort the list on natural ordering. 1,2,3... for numerics and A, B, C... a,b,c  for strings\n",
    "\n",
    "print(sorted(nums))"
   ]
  },
  {
   "cell_type": "code",
   "execution_count": 33,
   "metadata": {},
   "outputs": [
    {
     "name": "stdout",
     "output_type": "stream",
     "text": [
      "9\n"
     ]
    }
   ],
   "source": [
    "print(max(nums))"
   ]
  },
  {
   "cell_type": "code",
   "execution_count": 34,
   "metadata": {},
   "outputs": [
    {
     "name": "stdout",
     "output_type": "stream",
     "text": [
      "1\n"
     ]
    }
   ],
   "source": [
    "print(min(nums))"
   ]
  },
  {
   "cell_type": "code",
   "execution_count": 35,
   "metadata": {},
   "outputs": [
    {
     "name": "stdout",
     "output_type": "stream",
     "text": [
      "[2, 6, 9, 5, 3, 2, 1]\n"
     ]
    }
   ],
   "source": [
    "#Insert value at a given position\n",
    "\n",
    "nums.insert(3, 5)\n",
    "print(nums)"
   ]
  },
  {
   "cell_type": "code",
   "execution_count": 36,
   "metadata": {},
   "outputs": [
    {
     "name": "stdout",
     "output_type": "stream",
     "text": [
      "2\n"
     ]
    }
   ],
   "source": [
    "#Know the index of a particular value\n",
    "\n",
    "print(nums.index(9))"
   ]
  },
  {
   "cell_type": "code",
   "execution_count": 37,
   "metadata": {},
   "outputs": [
    {
     "name": "stdout",
     "output_type": "stream",
     "text": [
      "[1, 2, 3, 5, 9, 6, 2]\n"
     ]
    }
   ],
   "source": [
    "# Reverse the values in a list\n",
    "\n",
    "nums.reverse()\n",
    "print(nums)"
   ]
  },
  {
   "cell_type": "code",
   "execution_count": 1,
   "metadata": {},
   "outputs": [
    {
     "name": "stdout",
     "output_type": "stream",
     "text": [
      "True\n"
     ]
    }
   ],
   "source": [
    "#Compare two lists\n",
    "l1, l2=[2, 8, 0, 3], [2, 8, 0, 3]\n",
    "print(l1 == l2)"
   ]
  },
  {
   "cell_type": "code",
   "execution_count": 3,
   "metadata": {},
   "outputs": [
    {
     "data": {
      "text/plain": [
       "[2, 8, 0, 3, 2, 8, 0, 3]"
      ]
     },
     "execution_count": 3,
     "metadata": {},
     "output_type": "execute_result"
    }
   ],
   "source": [
    "l1 + l2"
   ]
  },
  {
   "cell_type": "code",
   "execution_count": 39,
   "metadata": {},
   "outputs": [
    {
     "name": "stdout",
     "output_type": "stream",
     "text": [
      "False\n"
     ]
    }
   ],
   "source": [
    "#Compare two lists\n",
    "l1, l2=[2, 8, 0, 3], [8, 2, 0, 3]\n",
    "print(l1 == l2)"
   ]
  },
  {
   "cell_type": "code",
   "execution_count": 40,
   "metadata": {},
   "outputs": [
    {
     "name": "stdout",
     "output_type": "stream",
     "text": [
      "True\n"
     ]
    }
   ],
   "source": [
    "#Compare two lists\n",
    "l1, l2=[2, 8, 0, 3], [8, 2, 0, 3]\n",
    "print(l1.sort() == l2.sort())"
   ]
  },
  {
   "cell_type": "code",
   "execution_count": 41,
   "metadata": {},
   "outputs": [
    {
     "name": "stdout",
     "output_type": "stream",
     "text": [
      "[[5, 2, 9, 2], [7, 2, 0], [2, 5, 6]]\n",
      "[2, 5, 6]\n",
      "2\n"
     ]
    }
   ],
   "source": [
    "# Access a particular element in a nested list. Here in this example it is 3-D list\n",
    "# nest[1] will return second element(In this case another list) ans: [[5, 2, 9, 2], [7, 2, 0], [2, 5, 6]]\n",
    "# nest[1][2] will return third element in the above list. ans: [2, 5, 6]\n",
    "# nest[1][2][0] will return first element from the above list. ans: 2\n",
    "\n",
    "nest = [[[1, 2, 3, 4], [ 5, 6, 7], [8, 9, 10]],[[5, 2, 9, 2], [ 7, 2, 0], [2, 5, 6]], [[1, 2, 3, 4], [ 5, 6, 7], [8, 9, 10]]]\n",
    "\n",
    "print(nest[1])\n",
    "print(nest[1][2])\n",
    "print(nest[1][2][0])\n"
   ]
  },
  {
   "cell_type": "code",
   "execution_count": null,
   "metadata": {},
   "outputs": [],
   "source": [
    "print(nest[0][1])"
   ]
  },
  {
   "cell_type": "code",
   "execution_count": 42,
   "metadata": {},
   "outputs": [
    {
     "name": "stdout",
     "output_type": "stream",
     "text": [
      "[[[1, 2, 3, 4], [5, 6, 7], [8, 9, 10]], [[5, 2, 9, 2], [7, 2, 0], [2, 5, 6]]]\n"
     ]
    }
   ],
   "source": [
    "print(nest[0:2])"
   ]
  },
  {
   "cell_type": "code",
   "execution_count": null,
   "metadata": {},
   "outputs": [],
   "source": [
    "#Lists are mutable. i.e. we can change the values in the list\n",
    "nest[1][2] = [4, 8,0]\n",
    "print(nest)\n"
   ]
  },
  {
   "cell_type": "code",
   "execution_count": null,
   "metadata": {},
   "outputs": [],
   "source": [
    "nest[1][2][0] = 5\n",
    "print(nest)"
   ]
  },
  {
   "cell_type": "code",
   "execution_count": null,
   "metadata": {},
   "outputs": [],
   "source": [
    "#We can create a 2-D List from two 1-D lists\n",
    "\n",
    "a = [2, 5, 0]\n",
    "b = [1, 5, 8]\n",
    "x = [a, b]\n",
    "print(x)"
   ]
  },
  {
   "cell_type": "code",
   "execution_count": null,
   "metadata": {},
   "outputs": [],
   "source": [
    "nest.index([])"
   ]
  }
 ],
 "metadata": {
  "anaconda-cloud": {},
  "kernelspec": {
   "display_name": "Python 3",
   "language": "python",
   "name": "python3"
  },
  "language_info": {
   "codemirror_mode": {
    "name": "ipython",
    "version": 3
   },
   "file_extension": ".py",
   "mimetype": "text/x-python",
   "name": "python",
   "nbconvert_exporter": "python",
   "pygments_lexer": "ipython3",
   "version": "3.5.2"
  }
 },
 "nbformat": 4,
 "nbformat_minor": 1
}
