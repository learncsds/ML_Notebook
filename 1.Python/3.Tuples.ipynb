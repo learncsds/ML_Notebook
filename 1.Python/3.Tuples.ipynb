{
 "cells": [
  {
   "cell_type": "markdown",
   "metadata": {},
   "source": [
    "### tuple\n",
    "\n",
    "Tuples are similar to List except that Tuples are immutable i.e you can't change the values in a Tuple. They contain TRUE values.\n",
    "They are surrounded by a paranthesis. Other than that the way we access tuples is similar to Lists."
   ]
  },
  {
   "cell_type": "code",
   "execution_count": null,
   "metadata": {},
   "outputs": [],
   "source": [
    "#Enclose the values in parentheses\n",
    "\n",
    "basic_tuple = (\"Sachin Tendulkar\", 40, \"Mumbai\", 5.5)\n",
    "print(basic_tuple[0])\n"
   ]
  },
  {
   "cell_type": "code",
   "execution_count": null,
   "metadata": {},
   "outputs": [],
   "source": [
    "#Interesting way to create a tuple. We can create a tuple without parentheses though this practise is discouraged.\n",
    "\n",
    "a = 2, 6, \"Ram\"\n",
    "print(a)"
   ]
  },
  {
   "cell_type": "code",
   "execution_count": null,
   "metadata": {},
   "outputs": [],
   "source": [
    "a[2]= 'Bheem'"
   ]
  },
  {
   "cell_type": "code",
   "execution_count": 3,
   "metadata": {},
   "outputs": [
    {
     "name": "stdout",
     "output_type": "stream",
     "text": [
      "('Ram',)\n"
     ]
    }
   ],
   "source": [
    "#Another approach to create a tuple. You can observe output enclosed in parantheses i.e a tuple\n",
    "\n",
    "b = 'Ram',\n",
    "print(b)"
   ]
  },
  {
   "cell_type": "code",
   "execution_count": 7,
   "metadata": {},
   "outputs": [
    {
     "name": "stdout",
     "output_type": "stream",
     "text": [
      "('Babu', 5, 'Ram', 6)\n"
     ]
    }
   ],
   "source": [
    "#Tuple packing\n",
    "\n",
    "c = 'Babu', 5, 'Ram', 6\n",
    "print(c)"
   ]
  },
  {
   "cell_type": "code",
   "execution_count": 8,
   "metadata": {},
   "outputs": [
    {
     "ename": "ValueError",
     "evalue": "too many values to unpack (expected 3)",
     "output_type": "error",
     "traceback": [
      "\u001b[1;31m---------------------------------------------------------------------------\u001b[0m",
      "\u001b[1;31mValueError\u001b[0m                                Traceback (most recent call last)",
      "\u001b[1;32m<ipython-input-8-d747abce2fa1>\u001b[0m in \u001b[0;36m<module>\u001b[1;34m()\u001b[0m\n\u001b[0;32m      1\u001b[0m \u001b[1;31m#Tuple unpacking. Note that number of values left side of the tuple should be equal to thetotal number of values in the tuple.\u001b[0m\u001b[1;33m\u001b[0m\u001b[1;33m\u001b[0m\u001b[0m\n\u001b[0;32m      2\u001b[0m \u001b[1;33m\u001b[0m\u001b[0m\n\u001b[1;32m----> 3\u001b[1;33m \u001b[0mx\u001b[0m\u001b[1;33m,\u001b[0m \u001b[0my\u001b[0m\u001b[1;33m,\u001b[0m \u001b[0mz\u001b[0m \u001b[1;33m=\u001b[0m \u001b[0mc\u001b[0m\u001b[1;33m\u001b[0m\u001b[0m\n\u001b[0m\u001b[0;32m      4\u001b[0m \u001b[0mprint\u001b[0m\u001b[1;33m(\u001b[0m\u001b[0mx\u001b[0m\u001b[1;33m)\u001b[0m\u001b[1;33m\u001b[0m\u001b[0m\n\u001b[0;32m      5\u001b[0m \u001b[0mprint\u001b[0m\u001b[1;33m(\u001b[0m\u001b[0my\u001b[0m\u001b[1;33m)\u001b[0m\u001b[1;33m\u001b[0m\u001b[0m\n",
      "\u001b[1;31mValueError\u001b[0m: too many values to unpack (expected 3)"
     ]
    }
   ],
   "source": [
    "#Tuple unpacking. Note that number of values left side of the tuple should be equal to thetotal number of values in the tuple.\n",
    "\n",
    "x, y, z = c\n",
    "print(x)\n",
    "print(y)\n",
    "print(z)"
   ]
  },
  {
   "cell_type": "code",
   "execution_count": 13,
   "metadata": {},
   "outputs": [
    {
     "name": "stdout",
     "output_type": "stream",
     "text": [
      "('Babu', 5, 'Ram', 6)\n"
     ]
    }
   ],
   "source": [
    "#Convert tuple to list\n",
    "b = list(c)\n",
    "print(tuple(b))"
   ]
  },
  {
   "cell_type": "code",
   "execution_count": null,
   "metadata": {},
   "outputs": [],
   "source": []
  },
  {
   "cell_type": "code",
   "execution_count": 10,
   "metadata": {},
   "outputs": [
    {
     "name": "stdout",
     "output_type": "stream",
     "text": [
      "('Rahul Dravid', 'Saurav Ganguly', 42, 45)\n"
     ]
    }
   ],
   "source": [
    "cricketers_tuple = (\"Rahul Dravid\", \"Saurav Ganguly\", 42, 45) \n",
    "print(cricketers_tuple)\n"
   ]
  },
  {
   "cell_type": "code",
   "execution_count": 11,
   "metadata": {},
   "outputs": [
    {
     "name": "stdout",
     "output_type": "stream",
     "text": [
      "('Rahul Dravid', 'Saurav Ganguly', 42, 45)\n"
     ]
    }
   ],
   "source": [
    "another_tuple = cricketers_tuple\n",
    "print(another_tuple)\n"
   ]
  },
  {
   "cell_type": "code",
   "execution_count": 12,
   "metadata": {},
   "outputs": [
    {
     "ename": "TypeError",
     "evalue": "'tuple' object does not support item assignment",
     "output_type": "error",
     "traceback": [
      "\u001b[1;31m---------------------------------------------------------------------------\u001b[0m",
      "\u001b[1;31mTypeError\u001b[0m                                 Traceback (most recent call last)",
      "\u001b[1;32m<ipython-input-12-abe5d220d506>\u001b[0m in \u001b[0;36m<module>\u001b[1;34m()\u001b[0m\n\u001b[0;32m      1\u001b[0m \u001b[1;31m# You can't change the value in a tuple\u001b[0m\u001b[1;33m\u001b[0m\u001b[1;33m\u001b[0m\u001b[0m\n\u001b[1;32m----> 2\u001b[1;33m \u001b[0manother_tuple\u001b[0m\u001b[1;33m[\u001b[0m\u001b[1;36m1\u001b[0m\u001b[1;33m]\u001b[0m \u001b[1;33m=\u001b[0m \u001b[1;36m43\u001b[0m\u001b[1;33m\u001b[0m\u001b[0m\n\u001b[0m",
      "\u001b[1;31mTypeError\u001b[0m: 'tuple' object does not support item assignment"
     ]
    }
   ],
   "source": [
    "# You can't change the value in a tuple\n",
    "another_tuple[1] = 43"
   ]
  },
  {
   "cell_type": "code",
   "execution_count": 14,
   "metadata": {},
   "outputs": [
    {
     "name": "stdout",
     "output_type": "stream",
     "text": [
      "('Rahul Dravid', 'Saurav Ganguly', 42)\n",
      "3\n"
     ]
    }
   ],
   "source": [
    "sliced_tuple = cricketers_tuple[:-1]\n",
    "print(sliced_tuple)\n",
    "print(len(sliced_tuple))"
   ]
  },
  {
   "cell_type": "code",
   "execution_count": 15,
   "metadata": {},
   "outputs": [
    {
     "name": "stdout",
     "output_type": "stream",
     "text": [
      "listed_tuple is: ['Rahul Dravid', 'Saurav Ganguly', 42]\n",
      "listed_tuple is now a tuple: ('Rahul Dravid', 'Saurav Ganguly', 42)\n"
     ]
    }
   ],
   "source": [
    "listed_tuple = list(sliced_tuple)\n",
    "print(\"listed_tuple is: {0}\".format(listed_tuple))\n",
    "listed_tuple= tuple(listed_tuple)\n",
    "print(\"listed_tuple is now a tuple: {0}\".format(listed_tuple))"
   ]
  },
  {
   "cell_type": "code",
   "execution_count": 16,
   "metadata": {},
   "outputs": [
    {
     "name": "stdout",
     "output_type": "stream",
     "text": [
      "[89, 45, 76]\n",
      "(3, 7, 9, [89, 45, 56])\n"
     ]
    }
   ],
   "source": [
    "# You can add a list to tuple and change the values in that list\n",
    "\n",
    "mytuple = (3, 7, 9, [89,45,67])\n",
    "a = mytuple[3]\n",
    "a[2] = 76\n",
    "print(a)\n",
    "mytuple[3][2] = 56\n",
    "#print(mytuple[3][2])\n",
    "#mytuple[2] =3\n",
    "print(mytuple)"
   ]
  },
  {
   "cell_type": "code",
   "execution_count": 17,
   "metadata": {},
   "outputs": [
    {
     "name": "stdout",
     "output_type": "stream",
     "text": [
      "(4, 6, 7, 9, 8)\n"
     ]
    }
   ],
   "source": [
    "#Add item in tuple\n",
    "\n",
    "tuple1 = (4, 6, 7, 9)\n",
    "tuple1 = tuple1+(8,)\n",
    "print(tuple1)"
   ]
  },
  {
   "cell_type": "code",
   "execution_count": 18,
   "metadata": {},
   "outputs": [
    {
     "ename": "AttributeError",
     "evalue": "'tuple' object has no attribute 'pop'",
     "output_type": "error",
     "traceback": [
      "\u001b[1;31m---------------------------------------------------------------------------\u001b[0m",
      "\u001b[1;31mAttributeError\u001b[0m                            Traceback (most recent call last)",
      "\u001b[1;32m<ipython-input-18-c42af51195c3>\u001b[0m in \u001b[0;36m<module>\u001b[1;34m()\u001b[0m\n\u001b[1;32m----> 1\u001b[1;33m \u001b[0mtuple1\u001b[0m\u001b[1;33m.\u001b[0m\u001b[0mpop\u001b[0m\u001b[1;33m(\u001b[0m\u001b[1;36m1\u001b[0m\u001b[1;33m)\u001b[0m\u001b[1;33m\u001b[0m\u001b[0m\n\u001b[0m",
      "\u001b[1;31mAttributeError\u001b[0m: 'tuple' object has no attribute 'pop'"
     ]
    }
   ],
   "source": [
    "tuple1.pop(1)"
   ]
  },
  {
   "cell_type": "code",
   "execution_count": null,
   "metadata": {},
   "outputs": [],
   "source": [
    "tuple1.help()"
   ]
  },
  {
   "cell_type": "code",
   "execution_count": 19,
   "metadata": {},
   "outputs": [
    {
     "name": "stdout",
     "output_type": "stream",
     "text": [
      "(4, 6, 7, 9, 8, 4, 6, 7, 9, 8)\n"
     ]
    }
   ],
   "source": [
    "# Add more values to tuple\n",
    "\n",
    "print(tuple1*2)"
   ]
  },
  {
   "cell_type": "code",
   "execution_count": 20,
   "metadata": {},
   "outputs": [
    {
     "name": "stdout",
     "output_type": "stream",
     "text": [
      "('Ram', 5, 9, [89], 'Saif')\n"
     ]
    }
   ],
   "source": [
    "# You can add a list to tuple and change the values in that list\n",
    "tuple2 = ('Ram', 5, 9,[], 'Saif')\n",
    "tuple2[3].append(89)\n",
    "print(tuple2)"
   ]
  }
 ],
 "metadata": {
  "anaconda-cloud": {},
  "kernelspec": {
   "display_name": "Python 3",
   "language": "python",
   "name": "python3"
  },
  "language_info": {
   "codemirror_mode": {
    "name": "ipython",
    "version": 3
   },
   "file_extension": ".py",
   "mimetype": "text/x-python",
   "name": "python",
   "nbconvert_exporter": "python",
   "pygments_lexer": "ipython3",
   "version": "3.5.2"
  }
 },
 "nbformat": 4,
 "nbformat_minor": 1
}
