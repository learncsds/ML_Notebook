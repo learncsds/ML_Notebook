{
 "cells": [
  {
   "cell_type": "markdown",
   "metadata": {},
   "source": [
    "## List comprehensions\n",
    "\n",
    "A list comprehension provides a compact way of mapping a list into another list by applying a function to each of the elements of the list\n",
    "\n",
    "A list comprehension consists of brackets containing an expression followed by a for clause, then zero or more for or if clauses. The result will be a new list"
   ]
  },
  {
   "cell_type": "code",
   "execution_count": 1,
   "metadata": {},
   "outputs": [
    {
     "name": "stdout",
     "output_type": "stream",
     "text": [
      "[2, 4, 1, 4, 9, 16, 25, 36]\n"
     ]
    }
   ],
   "source": [
    "# Square each element in the list\n",
    "\n",
    "squares_list= [2, 4]\n",
    "\n",
    "for x in range(1,7):\n",
    "    squares_list.append(x**2)\n",
    "print(squares_list)\n"
   ]
  },
  {
   "cell_type": "code",
   "execution_count": 2,
   "metadata": {},
   "outputs": [],
   "source": [
    "a = [90, 102]"
   ]
  },
  {
   "cell_type": "code",
   "execution_count": 3,
   "metadata": {},
   "outputs": [
    {
     "name": "stdout",
     "output_type": "stream",
     "text": [
      "[None, None, None, None, None, None]\n",
      "[90, 102, 1, 4, 9, 16, 25, 36]\n"
     ]
    }
   ],
   "source": [
    "squares_list = [a.append(x**2) for x in range(1,7)]\n",
    "print(squares_list)\n",
    "print(a)"
   ]
  },
  {
   "cell_type": "code",
   "execution_count": 1,
   "metadata": {},
   "outputs": [],
   "source": [
    "multiple_sentences = [\"Wow!!! What a catch from AB.\" , 'Saw SpiderMan Live today! says Kohli.', \"Have always loved playing along with this guy.\"]"
   ]
  },
  {
   "cell_type": "code",
   "execution_count": null,
   "metadata": {},
   "outputs": [],
   "source": [
    "# [\"Wow!!! What a catch from AB.\" , 'Saw SpiderMan Live today! says Kohli.', \"Have always loved playing along with this guy.\"]"
   ]
  },
  {
   "cell_type": "code",
   "execution_count": 2,
   "metadata": {},
   "outputs": [
    {
     "name": "stdout",
     "output_type": "stream",
     "text": [
      "['Wow!!!', 'What', 'a', 'catch', 'from', 'AB.', 'Saw', 'SpiderMan', 'Live', 'today!', 'says', 'Kohli.', 'Have', 'always', 'loved', 'playing', 'along', 'with', 'this', 'guy.']\n"
     ]
    }
   ],
   "source": [
    "# separate the words from the multiple sentences list\n",
    "\n",
    "word_list =[]\n",
    "\n",
    "for sentence in multiple_sentences:\n",
    "    for word in sentence.split():\n",
    "        word_list.append(word)\n",
    "\n",
    "print(word_list)"
   ]
  },
  {
   "cell_type": "code",
   "execution_count": null,
   "metadata": {},
   "outputs": [],
   "source": [
    "# converting above loop into a comprehension!\n",
    "\n",
    "word_list  = [word for sentence in multiple_sentences for word in sentence.split()]\n",
    "print(word_list)"
   ]
  },
  {
   "cell_type": "code",
   "execution_count": null,
   "metadata": {},
   "outputs": [],
   "source": [
    "# Find out the vowels from the sentences\n",
    "\n",
    "vowels = ['a','e','i','o','u']\n",
    "vowels_from_sentence =[]\n",
    "for sentence in multiple_sentences:\n",
    "    for word in sentence.split():\n",
    "        if word[0].lower() in vowels:\n",
    "            vowels_from_sentence.append(word)\n",
    "\n",
    "print(vowels_from_sentence)\n"
   ]
  },
  {
   "cell_type": "code",
   "execution_count": null,
   "metadata": {},
   "outputs": [],
   "source": [
    "# converting above loop into a comprehension!\n",
    "\n",
    "vowels_comp = [word for sentence in multiple_sentences for word in sentence.split() if word[0].lower() in vowels]\n",
    "print(vowels_comp)"
   ]
  },
  {
   "cell_type": "code",
   "execution_count": 7,
   "metadata": {},
   "outputs": [
    {
     "name": "stdout",
     "output_type": "stream",
     "text": [
      "{0: 0, 1: 1, 2: 4, 3: 9, 4: 16, 5: 25, 6: 36, 7: 49, 8: 64}\n"
     ]
    }
   ],
   "source": [
    "# Creating a dictionary dynamically with the comprehension\n",
    "\n",
    "squared_dictionary = {num : num**2 for num in range(0, 9)}\n",
    "print(squared_dictionary)"
   ]
  },
  {
   "cell_type": "code",
   "execution_count": null,
   "metadata": {},
   "outputs": [],
   "source": [
    "cricketers_info = { 1:['Sachin Tendukar', 45] , 2:['Saurav Ganguly',46], 3:['Rahul Dravid', 44], 4:['Virendra Sehwag',39], 5:['Virat Kohli',29]}\n"
   ]
  },
  {
   "cell_type": "code",
   "execution_count": null,
   "metadata": {},
   "outputs": [],
   "source": [
    "# Create a new dictionary from another dictionary\n",
    "names_dict ={}\n",
    "\n",
    "#iterate over each key, val pair\n",
    "for serialnum,cricketers_details in cricketers_info.items():\n",
    "    if serialnum%2==0:\n",
    "        names_dict[serialnum]= cricketers_details[0]\n",
    "print(names_dict)"
   ]
  },
  {
   "cell_type": "code",
   "execution_count": null,
   "metadata": {},
   "outputs": [],
   "source": [
    "# converting above loop into a comprehension!\n",
    "another_dict = {serialnum:cricketers_details[0] for serialnum,details in cricketers_info.items() if serialnum%2==0}\n",
    "print(another_dict)"
   ]
  }
 ],
 "metadata": {
  "anaconda-cloud": {},
  "kernelspec": {
   "display_name": "Python 3",
   "language": "python",
   "name": "python3"
  },
  "language_info": {
   "codemirror_mode": {
    "name": "ipython",
    "version": 3
   },
   "file_extension": ".py",
   "mimetype": "text/x-python",
   "name": "python",
   "nbconvert_exporter": "python",
   "pygments_lexer": "ipython3",
   "version": "3.7.1"
  }
 },
 "nbformat": 4,
 "nbformat_minor": 1
}
