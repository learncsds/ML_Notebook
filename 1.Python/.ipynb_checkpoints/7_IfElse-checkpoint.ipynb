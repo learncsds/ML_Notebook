{
 "cells": [
  {
   "cell_type": "markdown",
   "metadata": {},
   "source": [
    "## If-Else\n",
    "\n",
    "If-else statements in Python are decision-making statements that facilitate us to make a decision between true/false or multiple options by imposing a particular condition.\n",
    "\n",
    "when the condition is satisfied, the statements in the if block are executed, and when the condition is not satisfied, the statements in the else block are executed."
   ]
  },
  {
   "cell_type": "code",
   "execution_count": null,
   "metadata": {},
   "outputs": [],
   "source": [
    "#Basics of if statements\n",
    "\n",
    "if(1 == 1 and 2 == 2):\n",
    "    print(\"True!\")\n",
    "    print('Good')"
   ]
  },
  {
   "cell_type": "code",
   "execution_count": null,
   "metadata": {},
   "outputs": [],
   "source": [
    "if not 1 == 2:\n",
    "    print(\"True!\")\n",
    "    print('Else')"
   ]
  },
  {
   "cell_type": "code",
   "execution_count": null,
   "metadata": {},
   "outputs": [],
   "source": [
    "if not False:\n",
    "    print('In')"
   ]
  },
  {
   "cell_type": "code",
   "execution_count": 5,
   "metadata": {},
   "outputs": [
    {
     "name": "stdout",
     "output_type": "stream",
     "text": [
      "True!\n"
     ]
    }
   ],
   "source": [
    "# backslash helps in making some part of the condition starts in second line which is useful in not making the condition line too long\n",
    "\n",
    "if 1 == 1 and 2 == 2 and 3 == 3 and 4 == 4 \\\n",
    "    and 5 == 5 and 6 == 6:\n",
    "        print(\"True!\")"
   ]
  },
  {
   "cell_type": "code",
   "execution_count": 7,
   "metadata": {},
   "outputs": [
    {
     "name": "stdout",
     "output_type": "stream",
     "text": [
      "Enter amount you've spent on shopping: 600\n"
     ]
    }
   ],
   "source": [
    "#Entering the input externally from the command prompt\n",
    "purchase_amount = int(input(\"Enter amount you've spent on shopping: \"))\n",
    "cieling = 1000\n",
    "flooring = 100\n"
   ]
  },
  {
   "cell_type": "code",
   "execution_count": 8,
   "metadata": {},
   "outputs": [
    {
     "name": "stdout",
     "output_type": "stream",
     "text": [
      "You are eligible for discount!\n"
     ]
    }
   ],
   "source": [
    "#multiple if statements\n",
    "\n",
    "if purchase_amount >= cieling:\n",
    "    print(\"You've got the 50% discount on your purchase!\")\n",
    "\n",
    "if purchase_amount <= cieling and purchase_amount > flooring:\n",
    "    print(\"You are eligible for discount!\")\n",
    "\n",
    "if purchase_amount < flooring:\n",
    "    print(\"Sorry! You are not eligible for any discount. Better luck next time!\")\n"
   ]
  },
  {
   "cell_type": "code",
   "execution_count": null,
   "metadata": {},
   "outputs": [],
   "source": [
    "#Nested if-else statements\n",
    "\n",
    "if purchase_amount==1000:\n",
    "    print(\"50% Discount\")\n",
    "elif  999>=purchase_amount>=500:\n",
    "    print(\"40% Discount\")\n",
    "elif 499>=purchase_amount>=300:\n",
    "    print(\"30% Discount\")\n",
    "    print(\"30% is less. Try to buy more and get more discount\")\n",
    "elif 299>=purchase_amount>=100:\n",
    "    print(\"10% Discount\")\n",
    "else:\n",
    "    print(\"Sorry!\")\n"
   ]
  },
  {
   "cell_type": "code",
   "execution_count": null,
   "metadata": {},
   "outputs": [],
   "source": [
    "# Python is particlar on indentation to identify the blocks\n",
    "\n",
    "#In the below example error is expected as indentation is incorrect\n",
    "\n",
    "feedback1 = \"The movie is disaster\"\n",
    "if 'disaster' in feedback1:\n",
    "    print(\"Negative review!\")\n",
    "    print(\"You are deviating from indentation! Start at the same psition where above the statement started\")  #error expected\n",
    "\n",
    "feedback2 = \"The Movie is great\"\n",
    "if 'disaster' in feedback2:\n",
    "    print(\"Seems it is not negative review\")\n"
   ]
  },
  {
   "cell_type": "code",
   "execution_count": null,
   "metadata": {},
   "outputs": [],
   "source": [
    "# if-else example on basic numerical computation\n",
    "\n",
    "num = int(input(\"Enter some number: \"))\n",
    "\n",
    "if num%2==0:\n",
    "        print(\"Even Number\")\n",
    "        if num%4==0:\n",
    "            print(\"divisible by 4\")\n",
    "        else:\n",
    "            print(\"Not divisible by 4\")\n",
    "else:\n",
    "    print(\"Odd Number\")\n",
    "    if num%3==0:\n",
    "        print(\"Divisible by 3\")\n",
    "    else:\n",
    "        print(\"Not divisible by 3\")\n"
   ]
  },
  {
   "cell_type": "code",
   "execution_count": null,
   "metadata": {},
   "outputs": [],
   "source": [
    "if None:\n",
    "    print(\"Is True\")\n",
    "else:\n",
    "    print(\"Is False\")"
   ]
  }
 ],
 "metadata": {
  "anaconda-cloud": {},
  "kernelspec": {
   "display_name": "Python 3",
   "language": "python",
   "name": "python3"
  },
  "language_info": {
   "codemirror_mode": {
    "name": "ipython",
    "version": 3
   },
   "file_extension": ".py",
   "mimetype": "text/x-python",
   "name": "python",
   "nbconvert_exporter": "python",
   "pygments_lexer": "ipython3",
   "version": "3.7.1"
  }
 },
 "nbformat": 4,
 "nbformat_minor": 1
}
