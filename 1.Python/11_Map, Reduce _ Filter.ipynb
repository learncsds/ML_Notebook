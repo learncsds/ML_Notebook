{
 "cells": [
  {
   "cell_type": "markdown",
   "metadata": {},
   "source": [
    "## Functional Programming in Python\n",
    "\n",
    "When working on Python programming you inevitably come across situations where you have to do some data manipulation. In most cases, you use control statements to get the desired result, but these control statements can quickly become a bit messy and large. Functional techniques can help you write more declarative code that is easier to understand at a glance, refactor, and test. Most of the times it can be much easier to use the map , filter or reduce methods.\n",
    "\n",
    "The rule of thumb you use to determine which method you should use is as follows:\n",
    "\n",
    "- If you already have a list of values and you want to do the exact same operation on each of the elements in the array and return the same amount of items in the list, in these type of situations it is better to use the map method.\n",
    "\n",
    "- If you already have list of values but you only want to have items in the array that match certain criteria, in these type of situations it is better to use the filter method.\n",
    "\n",
    "- If you already have list of values, but you want to use the values in that list to create something completely new, in these type of situations it is better to use the reduce method."
   ]
  },
  {
   "cell_type": "code",
   "execution_count": 1,
   "metadata": {},
   "outputs": [
    {
     "name": "stdout",
     "output_type": "stream",
     "text": [
      "[2, 4, 5, 2, 4, 5]\n"
     ]
    }
   ],
   "source": [
    "# Creating a list and try to square the elements in it\n",
    "# it gives an error as we can't directly multiple or square or anyother operation on the list directly.\n",
    "# We need interate through the list, get element by element and apply the operation\n",
    "\n",
    "first_list = [2, 4, 5]\n",
    "lista = first_list *2\n",
    "print(lista)"
   ]
  },
  {
   "cell_type": "code",
   "execution_count": 2,
   "metadata": {},
   "outputs": [],
   "source": [
    "#first_list = [2, 4, 5]"
   ]
  },
  {
   "cell_type": "code",
   "execution_count": 3,
   "metadata": {},
   "outputs": [
    {
     "name": "stdout",
     "output_type": "stream",
     "text": [
      "[4, 16, 25]\n"
     ]
    }
   ],
   "source": [
    "# map function uses the lambda expression to apply an operation on each element of the list \n",
    "#and outputs the same number of values in the input list\n",
    "# In below example it squares every element in the list and prints all the output values\n",
    "# However, it prints the map object not the list. We need explicitely convert it into a list\n",
    "\n",
    "print(list(map(lambda x: x**2, first_list)))"
   ]
  },
  {
   "cell_type": "code",
   "execution_count": null,
   "metadata": {},
   "outputs": [],
   "source": [
    "# Apply the map function and convert the map object into a list\n",
    "\n",
    "first_list = [2,4,5]\n",
    "print(list(map(lambda x: x**2, first_list)))"
   ]
  },
  {
   "cell_type": "code",
   "execution_count": 4,
   "metadata": {},
   "outputs": [
    {
     "name": "stdout",
     "output_type": "stream",
     "text": [
      "[4, 16, 25]\n"
     ]
    }
   ],
   "source": [
    "# We also can use the function instead of lambda expression\n",
    "\n",
    "def squareit(n):\n",
    "    return n**2\n",
    "print(list(map(squareit, [2,4,5])))\n"
   ]
  },
  {
   "cell_type": "code",
   "execution_count": 8,
   "metadata": {},
   "outputs": [
    {
     "name": "stdout",
     "output_type": "stream",
     "text": [
      "{10, 15, 14, 7}\n"
     ]
    }
   ],
   "source": [
    "# Map also accepts multiple lists. In that case we define multiple variables each one from each list\n",
    "# in the below example x1=3, y1=4; x2=5, y2=5;x3=9, y3=6;x4=7,y4=7\n",
    "\n",
    "sums_list = [3,5,9,7]\n",
    "sums_list2 = (4,5,6,7)\n",
    "a = set(map(lambda x,y : x+y, sums_list,sums_list2))\n",
    "a"
   ]
  },
  {
   "cell_type": "code",
   "execution_count": 4,
   "metadata": {},
   "outputs": [
    {
     "name": "stdout",
     "output_type": "stream",
     "text": [
      "['Nikola Tesla', 'James Watt', 'Albert Einstein']\n"
     ]
    }
   ],
   "source": [
    "# In the below example we are passing two lists to Map and converting the first letter of every element in the first list\n",
    "\n",
    "list_of_names = ['nikola', 'james', 'albert']\n",
    "list_of_names2 = ['tesla','watt','einstein']\n",
    "proper = lambda x, y: x[0].upper()+x[1:] +' '+ y[0].upper()+y[1:]\n",
    "print(list(map(proper, list_of_names,list_of_names2)))"
   ]
  },
  {
   "cell_type": "code",
   "execution_count": 6,
   "metadata": {},
   "outputs": [
    {
     "name": "stdout",
     "output_type": "stream",
     "text": [
      "[6, 9]\n"
     ]
    }
   ],
   "source": [
    "#Filteris similar to map except that it outputs only the values which satisfy a certail condition.\n",
    "# Due to that, the number of output values can be same or less than number of input values\n",
    "# In below example number of input values are 7. But number of output values are only 3 as the condition filters the list\n",
    "# filter also accepts multiple input lists in which case we define multiple variables in lambda expression\n",
    "\n",
    "divby3 = lambda x:  x%3 == 0\n",
    "my_list = [4,4,5,6,7,8,9]\n",
    "div = filter(divby3, my_list)\n",
    "print(list(div))\n",
    "\n"
   ]
  },
  {
   "cell_type": "code",
   "execution_count": 7,
   "metadata": {},
   "outputs": [
    {
     "name": "stdout",
     "output_type": "stream",
     "text": [
      "-12\n"
     ]
    }
   ],
   "source": [
    "#Reduce function accepts single list but defines two variables in lambda expression. x being first value in the list\n",
    "# and y being the next value in the list. After applying the operation, result becomes x and next value becomes y\n",
    "\n",
    "from functools import reduce\n",
    "q  = reduce(lambda x, y: x-y, range(3,7))\n",
    "print(q)\n"
   ]
  },
  {
   "cell_type": "code",
   "execution_count": 10,
   "metadata": {},
   "outputs": [
    {
     "name": "stdout",
     "output_type": "stream",
     "text": [
      "[3, 4, 5, 6]\n"
     ]
    }
   ],
   "source": [
    "print(list(range(3,7)))"
   ]
  },
  {
   "cell_type": "code",
   "execution_count": 11,
   "metadata": {},
   "outputs": [
    {
     "name": "stdout",
     "output_type": "stream",
     "text": [
      "94\n"
     ]
    }
   ],
   "source": [
    "list_of_nums = [22,45,32,20,87,94,30]\n",
    "print(reduce(lambda x,y: x if x>y else y,list_of_nums))\n"
   ]
  }
 ],
 "metadata": {
  "anaconda-cloud": {},
  "kernelspec": {
   "display_name": "Python 3",
   "language": "python",
   "name": "python3"
  },
  "language_info": {
   "codemirror_mode": {
    "name": "ipython",
    "version": 3
   },
   "file_extension": ".py",
   "mimetype": "text/x-python",
   "name": "python",
   "nbconvert_exporter": "python",
   "pygments_lexer": "ipython3",
   "version": "3.6.5"
  }
 },
 "nbformat": 4,
 "nbformat_minor": 1
}
