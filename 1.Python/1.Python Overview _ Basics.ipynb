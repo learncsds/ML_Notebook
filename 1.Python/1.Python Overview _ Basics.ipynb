{
 "cells": [
  {
   "attachments": {
    "Interactive.png": {
     "image/png": "[encoded data removed]"
    }
   },
   "cell_type": "markdown",
   "metadata": {},
   "source": [
    "### Overview\n",
    "\n",
    "Python was created by an Dutch programmer, Guido Van Rossum in last 80's and first version released officially in 1990. He initially thought of targetting the Unix/C hackers with this new language and named it after his favourite BBC comedy series 'Monty Python's Flying Circus'.\n",
    "Soon after it gained so much of popularity for its simplicity, english language like syntax, dynamically typed etc.\n",
    "\n",
    "Below are the features of Python:\n",
    "   \n",
    "#### Interactive:\n",
    "User can directly type the statement in the interpreter and can see the result then and there.\n",
    "![Interactive.png](attachment:Interactive.png)\n",
    "\n",
    "#### Interpreted:\n",
    "No compilation! Python is interpreted. When Python code is run, interpreter parse program line by line. No need of compiling first and then run.\n",
    "However, for large applications, where performance is key, Python can be compiled first and then run.\n",
    "\n",
    "#### Dynamically Typed:\n",
    "No need to declare the data types! When you create a variable just mention the value like var a = 10. Thats it! Python by default calculates the data type of the variable based on the type of the value given.\n",
    "\n",
    "#### Portable:\n",
    "Python is platform independant. It can run on any OS. Thanks to the interpreter.\n",
    "\n",
    "#### Multiple styles of coding:\n",
    "Python supports OOPs, Procedural, functional and imperative styles. Object-Oriented and Procedural are two most higly used coding styles of Python. While Procedural style tales top-down approach, Object-Oriented style take bottom-up approach where you define variables, methods, constructors first and then call those at a later stage in the program.\n",
    "\n",
    "#### Developer friendly:\n",
    "Python has english language like syntax and can be easily understood by anyone.\n",
    "Number of lines of code in Python is less compared to other languages. Like 1/3 or 1/5 lines of code compared to C, C++ or Java.\n",
    "\n",
    "#### Extensive Standrad Library:\n",
    "Python has large set of in built libraries which means it almost has solution for every problem like 'Battery-loaded'. Just import the library and code it few lines rather than developing the library/code from scratch.\n",
    "It even supports huge external libraries which makes it comprehensive language. Thats the reason they say 'You can do anything in Python'.\n",
    "\n",
    "#### Integration\n",
    "Python can be easily integrated with many languages like C, C++, Java, .Net etc. It can act as an interface among the programming languages. Can interface with USB devices over serial ports. It can even exchange data using multiple protocols like SOAP, REST, XML-RPC. Call webservices using COM or CORBA. \n",
    "\n",
    "#### And finally it is open source!"
   ]
  },
  {
   "cell_type": "markdown",
   "metadata": {},
   "source": [
    "### Where do you use Python?\n",
    "\n",
    "#### Web application development:\n",
    "With frameworks like Django, Flask, Pyramid, PloneCherryPy etc Python can be an effective language for web application development.\n",
    "\n",
    "#### Scientific and Numerical computing:\n",
    "One of the most used featues of Python in the industry is for its strong support for Scientific calculations. it is almost becoming a de-facto language for data analysis where scientific and numerical calculations are very important. With open source libraries like NumPy, Scipy, Pandas, MatPlotLib, Seaborn etc Python is the leader in this field.\n",
    "\n",
    "#### Gaming development:\n",
    "With libraries like Tkinter, Pygame and PyOpenGl it is easy to develop games in Python."
   ]
  },
  {
   "cell_type": "markdown",
   "metadata": {},
   "source": [
    "#### Lets make our hands dirty!"
   ]
  },
  {
   "cell_type": "code",
   "execution_count": 46,
   "metadata": {},
   "outputs": [
    {
     "name": "stdout",
     "output_type": "stream",
     "text": [
      "Hello World! python\n"
     ]
    }
   ],
   "source": [
    "# Basic command in Python to print a line. Print accepts any object and prints the string version of that object.\n",
    "# In this case below, we are directly printing a string!\n",
    "\n",
    "print(\"Hello World! python\")"
   ]
  },
  {
   "cell_type": "code",
   "execution_count": 47,
   "metadata": {},
   "outputs": [
    {
     "data": {
      "text/plain": [
       "0.5"
      ]
     },
     "execution_count": 47,
     "metadata": {},
     "output_type": "execute_result"
    }
   ],
   "source": [
    "# Such an easy task to compute!\n",
    "\n",
    "8/16"
   ]
  },
  {
   "cell_type": "code",
   "execution_count": 48,
   "metadata": {},
   "outputs": [
    {
     "data": {
      "text/plain": [
       "13"
      ]
     },
     "execution_count": 48,
     "metadata": {},
     "output_type": "execute_result"
    }
   ],
   "source": [
    "6+7"
   ]
  },
  {
   "cell_type": "code",
   "execution_count": 49,
   "metadata": {},
   "outputs": [
    {
     "data": {
      "text/plain": [
       "34.375"
      ]
     },
     "execution_count": 49,
     "metadata": {},
     "output_type": "execute_result"
    }
   ],
   "source": [
    "5 * 6.875"
   ]
  },
  {
   "cell_type": "code",
   "execution_count": 50,
   "metadata": {},
   "outputs": [
    {
     "data": {
      "text/plain": [
       "68.8"
      ]
     },
     "execution_count": 50,
     "metadata": {},
     "output_type": "execute_result"
    }
   ],
   "source": [
    "#As we are working in inercative mode, it takes the previously run expression output as variable '_'. \n",
    "#Here we are taking the previous value and rounds it to two decimals.\n",
    "\n",
    "round(68.7546, 1)"
   ]
  },
  {
   "cell_type": "code",
   "execution_count": 51,
   "metadata": {},
   "outputs": [
    {
     "name": "stdout",
     "output_type": "stream",
     "text": [
      "Hi\n",
      "Lets do some math!hhhhhhhhhhhhhhhhhhhhhhhhhhhhhhhhhhhhhhhh\n"
     ]
    }
   ],
   "source": [
    "print(\"Hi\\nLets do some math!hhhhhhhhhhhhhhhhhhhhhhhhhhhhhhhhhhhhhhhh\n",
    "      fhjgkjhlk\")"
   ]
  },
  {
   "cell_type": "code",
   "execution_count": 52,
   "metadata": {},
   "outputs": [
    {
     "data": {
      "text/plain": [
       "'hjcghxj\\r\\ndfg'"
      ]
     },
     "execution_count": 52,
     "metadata": {},
     "output_type": "execute_result"
    }
   ],
   "source": [
    "'''hjcghxj\\r\\ndfg\n",
    "dghfjhgjhlkl'''"
   ]
  },
  {
   "cell_type": "code",
   "execution_count": 53,
   "metadata": {
    "scrolled": true
   },
   "outputs": [
    {
     "name": "stdout",
     "output_type": "stream",
     "text": [
      "2.142857142857143\n",
      "2\n",
      "1\n",
      "(2, 1)\n",
      "170859375\n",
      "170859375\n",
      "1\n"
     ]
    }
   ],
   "source": [
    "x = 15\n",
    "y = 7\n",
    "print(x / y)\n",
    "print(x // y)       #quotient\n",
    "print(x % y)        #Remainder\n",
    "print(divmod(x, y)) #the pair (x // y, x % y)\n",
    "print(x ** y)       #Exponential\n",
    "print(pow(x,y))     #Exponential\n",
    "print(pow(0, 0))    #Exponential of zeros is always 1"
   ]
  },
  {
   "cell_type": "code",
   "execution_count": 55,
   "metadata": {},
   "outputs": [
    {
     "name": "stdout",
     "output_type": "stream",
     "text": [
      "14\n",
      "13\n",
      "13.0\n",
      "14.0\n"
     ]
    }
   ],
   "source": [
    "print(abs(-14))\n",
    "print(int(13.6))\n",
    "print(float(13))\n",
    "print(round(13.6, 0))"
   ]
  },
  {
   "cell_type": "code",
   "execution_count": 56,
   "metadata": {},
   "outputs": [
    {
     "name": "stdout",
     "output_type": "stream",
     "text": [
      "15.6\n"
     ]
    }
   ],
   "source": [
    "# Order of calculation in Python. BEDMAS (Bracket, Exponential, Division,Multiplication,Addition,Substraction)\n",
    "#Substract/Addition is based on the sequence\n",
    "print(9 * 2 - 4 + 3 / 5-7+8)  "
   ]
  },
  {
   "cell_type": "code",
   "execution_count": 57,
   "metadata": {},
   "outputs": [
    {
     "name": "stdout",
     "output_type": "stream",
     "text": [
      "10\n",
      "9\n"
     ]
    }
   ],
   "source": [
    "# Incremental/decremental condition\n",
    "# incdec +=1  ~ incdec = incdec+1.\n",
    "incdec = 9\n",
    "incdec += 1\n",
    "print(incdec)\n",
    "incdec -= 1\n",
    "print(incdec)"
   ]
  },
  {
   "cell_type": "code",
   "execution_count": 58,
   "metadata": {},
   "outputs": [
    {
     "name": "stdout",
     "output_type": "stream",
     "text": [
      "True\n",
      "False\n",
      "True\n",
      "True\n",
      "True\n",
      "False\n"
     ]
    }
   ],
   "source": [
    "#Logical operations\n",
    "print(3 < 4)\n",
    "print(True and False) \n",
    "print(True or False)\n",
    "print(x!=y) \n",
    "print(True and not False)\n",
    "print(False and False)"
   ]
  },
  {
   "cell_type": "code",
   "execution_count": 59,
   "metadata": {},
   "outputs": [
    {
     "data": {
      "text/plain": [
       "'Hi There!'"
      ]
     },
     "execution_count": 59,
     "metadata": {},
     "output_type": "execute_result"
    }
   ],
   "source": [
    "'Hi There!'"
   ]
  },
  {
   "cell_type": "code",
   "execution_count": 60,
   "metadata": {},
   "outputs": [
    {
     "name": "stdout",
     "output_type": "stream",
     "text": [
      "D:\\Krishna\n",
      "air\n"
     ]
    }
   ],
   "source": [
    "# \\n is considered as new line\n",
    "print('D:\\Krishna\\nair')"
   ]
  },
  {
   "cell_type": "code",
   "execution_count": 61,
   "metadata": {},
   "outputs": [
    {
     "name": "stdout",
     "output_type": "stream",
     "text": [
      "D:\\Krishna\\nair\n"
     ]
    }
   ],
   "source": [
    "# To ignore \\n as new line prefix it with 'r'\n",
    "print(r'D:\\Krishna\\nair')"
   ]
  },
  {
   "cell_type": "code",
   "execution_count": 62,
   "metadata": {},
   "outputs": [
    {
     "data": {
      "text/plain": [
       "'HiHiHiHiHi'"
      ]
     },
     "execution_count": 62,
     "metadata": {},
     "output_type": "execute_result"
    }
   ],
   "source": [
    "5 * 'Hi'"
   ]
  },
  {
   "cell_type": "code",
   "execution_count": 63,
   "metadata": {},
   "outputs": [
    {
     "data": {
      "text/plain": [
       "'Hello!Hello!How are you?'"
      ]
     },
     "execution_count": 63,
     "metadata": {},
     "output_type": "execute_result"
    }
   ],
   "source": [
    "2 * 'Hello!' +'How are you?'"
   ]
  },
  {
   "cell_type": "code",
   "execution_count": 64,
   "metadata": {},
   "outputs": [
    {
     "data": {
      "text/plain": [
       "'HelloHow are you?'"
      ]
     },
     "execution_count": 64,
     "metadata": {},
     "output_type": "execute_result"
    }
   ],
   "source": [
    "'Hello' 'How are you?'"
   ]
  },
  {
   "cell_type": "code",
   "execution_count": 65,
   "metadata": {
    "scrolled": true
   },
   "outputs": [
    {
     "ename": "SyntaxError",
     "evalue": "invalid syntax (<ipython-input-65-21baa8066c27>, line 3)",
     "output_type": "error",
     "traceback": [
      "\u001b[1;36m  File \u001b[1;32m\"<ipython-input-65-21baa8066c27>\"\u001b[1;36m, line \u001b[1;32m3\u001b[0m\n\u001b[1;33m    greeting 'How are you?'\u001b[0m\n\u001b[1;37m                          ^\u001b[0m\n\u001b[1;31mSyntaxError\u001b[0m\u001b[1;31m:\u001b[0m invalid syntax\n"
     ]
    }
   ],
   "source": [
    "# But you can't concatenate a variable and a string literal simply with '' quotes without doing any operation.\n",
    "greeting = 'Hello'\n",
    "greeting 'How are you?'"
   ]
  },
  {
   "cell_type": "code",
   "execution_count": 66,
   "metadata": {},
   "outputs": [
    {
     "data": {
      "text/plain": [
       "'Hello:How are you?'"
      ]
     },
     "execution_count": 66,
     "metadata": {},
     "output_type": "execute_result"
    }
   ],
   "source": [
    "# However, you can concatenate using a plus operator\n",
    "greeting = 'Hello'\n",
    "greeting+':How are you?'"
   ]
  },
  {
   "cell_type": "code",
   "execution_count": 67,
   "metadata": {},
   "outputs": [
    {
     "name": "stdout",
     "output_type": "stream",
     "text": [
      "Hello!:How are you?\n"
     ]
    }
   ],
   "source": [
    "one = \"Hello!\"\n",
    "two = \"How are you?\"\n",
    "print(one+\":\"+two)"
   ]
  },
  {
   "cell_type": "code",
   "execution_count": 68,
   "metadata": {},
   "outputs": [
    {
     "ename": "TypeError",
     "evalue": "unsupported operand type(s) for +: 'int' and 'str'",
     "output_type": "error",
     "traceback": [
      "\u001b[1;31m---------------------------------------------------------------------------\u001b[0m",
      "\u001b[1;31mTypeError\u001b[0m                                 Traceback (most recent call last)",
      "\u001b[1;32m<ipython-input-68-eefa400294a8>\u001b[0m in \u001b[0;36m<module>\u001b[1;34m()\u001b[0m\n\u001b[0;32m      4\u001b[0m \u001b[0mb\u001b[0m \u001b[1;33m=\u001b[0m \u001b[1;36m2\u001b[0m\u001b[1;33m\u001b[0m\u001b[0m\n\u001b[0;32m      5\u001b[0m \u001b[0mc\u001b[0m \u001b[1;33m=\u001b[0m \u001b[1;34m'Three'\u001b[0m\u001b[1;33m\u001b[0m\u001b[0m\n\u001b[1;32m----> 6\u001b[1;33m \u001b[0mprint\u001b[0m\u001b[1;33m(\u001b[0m\u001b[0ma\u001b[0m\u001b[1;33m+\u001b[0m\u001b[0mb\u001b[0m\u001b[1;33m+\u001b[0m\u001b[0mc\u001b[0m\u001b[1;33m)\u001b[0m\u001b[1;33m\u001b[0m\u001b[0m\n\u001b[0m",
      "\u001b[1;31mTypeError\u001b[0m: unsupported operand type(s) for +: 'int' and 'str'"
     ]
    }
   ],
   "source": [
    "# You can't concatenate different data types. Python is strongly typed langauge. \n",
    "# However, Below operation will work in JavaScript. It prints '12Three'\n",
    "a = 1\n",
    "b = 2\n",
    "c = 'Three'\n",
    "print(a+b+c)"
   ]
  },
  {
   "cell_type": "code",
   "execution_count": 69,
   "metadata": {},
   "outputs": [
    {
     "data": {
      "text/plain": [
       "5"
      ]
     },
     "execution_count": 69,
     "metadata": {},
     "output_type": "execute_result"
    }
   ],
   "source": [
    "# How many characters in a string is denoted by length of that string\n",
    "len(greeting)"
   ]
  },
  {
   "cell_type": "code",
   "execution_count": 71,
   "metadata": {},
   "outputs": [
    {
     "data": {
      "text/plain": [
       "'H'"
      ]
     },
     "execution_count": 71,
     "metadata": {},
     "output_type": "execute_result"
    }
   ],
   "source": [
    "min('reHlo')"
   ]
  },
  {
   "cell_type": "code",
   "execution_count": 72,
   "metadata": {},
   "outputs": [
    {
     "data": {
      "text/plain": [
       "'o'"
      ]
     },
     "execution_count": 72,
     "metadata": {},
     "output_type": "execute_result"
    }
   ],
   "source": [
    "max(greeting)"
   ]
  },
  {
   "cell_type": "code",
   "execution_count": 73,
   "metadata": {},
   "outputs": [
    {
     "data": {
      "text/plain": [
       "'e'"
      ]
     },
     "execution_count": 73,
     "metadata": {},
     "output_type": "execute_result"
    }
   ],
   "source": [
    "new_greeting = 'hello'\n",
    "min(new_greeting)"
   ]
  },
  {
   "cell_type": "code",
   "execution_count": 74,
   "metadata": {},
   "outputs": [
    {
     "data": {
      "text/plain": [
       "2"
      ]
     },
     "execution_count": 74,
     "metadata": {},
     "output_type": "execute_result"
    }
   ],
   "source": [
    "new_greeting.count('l')"
   ]
  },
  {
   "cell_type": "code",
   "execution_count": 75,
   "metadata": {},
   "outputs": [
    {
     "name": "stdout",
     "output_type": "stream",
     "text": [
      "True\n"
     ]
    }
   ],
   "source": [
    "print('el' in new_greeting)"
   ]
  },
  {
   "cell_type": "code",
   "execution_count": 76,
   "metadata": {
    "scrolled": true
   },
   "outputs": [
    {
     "name": "stdout",
     "output_type": "stream",
     "text": [
      "False\n"
     ]
    }
   ],
   "source": [
    "print('a' in new_greeting)"
   ]
  },
  {
   "cell_type": "code",
   "execution_count": 77,
   "metadata": {},
   "outputs": [
    {
     "name": "stdout",
     "output_type": "stream",
     "text": [
      "THESE LETTERS ARE SMALL CASED AND WILL TURN TO UPPER CASE\n",
      "these letters are upper cased and will turn to lower case\n"
     ]
    }
   ],
   "source": [
    "\"\"\" This is an example of converting the lower case characters to uppercase\n",
    " and upper case letters to lower case. This comment is example of writing comments in three quotes. \n",
    " If you want to write multiple lines of comments as a paragraph then wrap the comment in three quotes as here\"\"\"\n",
    "\n",
    "small = \"these letters are small cased and will turn to upper case\"\n",
    "print(small.upper())\n",
    "\n",
    "upper = \"THESE LETTERS ARE UPPER CASED AND WILL TURN TO LOWER CASE\"\n",
    "print(upper.lower())\n"
   ]
  },
  {
   "cell_type": "code",
   "execution_count": 78,
   "metadata": {},
   "outputs": [
    {
     "name": "stdout",
     "output_type": "stream",
     "text": [
      "Bengaluru is the capital of Karnataka    \n",
      "Bengaluru is the capital of Karnataka\n"
     ]
    }
   ],
   "source": [
    "space_right_string = \"Bengaluru is the capital of Karnataka    \"\n",
    "print(space_right_string)\n",
    "print(space_right_string.rstrip())\n"
   ]
  },
  {
   "cell_type": "code",
   "execution_count": 79,
   "metadata": {},
   "outputs": [
    {
     "name": "stdout",
     "output_type": "stream",
     "text": [
      "   Bengaluru is called the Garden City of India\n",
      "Bengaluru is called the Garden City of India\n"
     ]
    }
   ],
   "source": [
    "space_left_string = \"   Bengaluru is called the Garden City of India\"\n",
    "print(space_left_string)\n",
    "print(space_left_string.lstrip())"
   ]
  },
  {
   "cell_type": "code",
   "execution_count": 80,
   "metadata": {},
   "outputs": [
    {
     "name": "stdout",
     "output_type": "stream",
     "text": [
      "   Bengaluru is also called the sillicon valley of India  \n",
      "Bengaluru is also called the sillicon valley of India\n"
     ]
    }
   ],
   "source": [
    "space_string = \"   Bengaluru is also called the sillicon valley of India  \"\n",
    "print(space_string)\n",
    "print(space_string.strip())"
   ]
  },
  {
   "cell_type": "code",
   "execution_count": 82,
   "metadata": {},
   "outputs": [
    {
     "name": "stdout",
     "output_type": "stream",
     "text": [
      "678\n"
     ]
    }
   ],
   "source": [
    "mixed_string = '*678#'\n",
    "print(mixed_string.lstrip('*').rstrip('#'))"
   ]
  },
  {
   "cell_type": "code",
   "execution_count": 83,
   "metadata": {},
   "outputs": [
    {
     "name": "stdout",
     "output_type": "stream",
     "text": [
      ".example.\n"
     ]
    }
   ],
   "source": [
    "url = 'www.example.com'\n",
    "print(url.strip('comwz'))"
   ]
  },
  {
   "cell_type": "code",
   "execution_count": 84,
   "metadata": {},
   "outputs": [
    {
     "name": "stdout",
     "output_type": "stream",
     "text": [
      "engaluru is also called the sillicon valley of Indi\n"
     ]
    }
   ],
   "source": [
    "new_space_string = \"Bengaluru is also called the sillicon valley of India  \"\n",
    "print(new_space_string.strip(' aBcl'))"
   ]
  },
  {
   "cell_type": "code",
   "execution_count": 85,
   "metadata": {},
   "outputs": [
    {
     "name": "stdout",
     "output_type": "stream",
     "text": [
      "I Am From Bangalore City\n"
     ]
    }
   ],
   "source": [
    "city_string = \"i am from bangalore city\"\n",
    "print(city_string.title())"
   ]
  },
  {
   "cell_type": "code",
   "execution_count": 86,
   "metadata": {},
   "outputs": [
    {
     "name": "stdout",
     "output_type": "stream",
     "text": [
      "number of cars is 6\n"
     ]
    }
   ],
   "source": [
    "val = \"6 cars\"\n",
    "no_of_cars = val[0] \n",
    "print('number of cars is', no_of_cars)\n"
   ]
  },
  {
   "cell_type": "code",
   "execution_count": 87,
   "metadata": {},
   "outputs": [
    {
     "name": "stdout",
     "output_type": "stream",
     "text": [
      "cars\n"
     ]
    }
   ],
   "source": [
    "find = val[2:]\n",
    "print(find)"
   ]
  },
  {
   "cell_type": "code",
   "execution_count": 88,
   "metadata": {},
   "outputs": [
    {
     "name": "stdout",
     "output_type": "stream",
     "text": [
      "car\n"
     ]
    }
   ],
   "source": [
    "#slicing by specifying start and end index\n",
    "print(val[2:5])\n"
   ]
  },
  {
   "cell_type": "code",
   "execution_count": 89,
   "metadata": {},
   "outputs": [
    {
     "name": "stdout",
     "output_type": "stream",
     "text": [
      "6 bikes \n"
     ]
    }
   ],
   "source": [
    "vehicles = \"6 bikes 3 cars n\"\n",
    "bikes = vehicles[ :8]\n",
    "print(bikes)"
   ]
  },
  {
   "cell_type": "code",
   "execution_count": 90,
   "metadata": {},
   "outputs": [
    {
     "name": "stdout",
     "output_type": "stream",
     "text": [
      "6 bikes 3 cars n\n"
     ]
    }
   ],
   "source": [
    "print(vehicles[ :])"
   ]
  },
  {
   "cell_type": "code",
   "execution_count": 91,
   "metadata": {},
   "outputs": [
    {
     "name": "stdout",
     "output_type": "stream",
     "text": [
      "3 cars\n"
     ]
    }
   ],
   "source": [
    "cars = vehicles[8:-2]\n",
    "print(cars)"
   ]
  },
  {
   "cell_type": "code",
   "execution_count": 92,
   "metadata": {},
   "outputs": [
    {
     "ename": "TypeError",
     "evalue": "'str' object does not support item assignment",
     "output_type": "error",
     "traceback": [
      "\u001b[1;31m---------------------------------------------------------------------------\u001b[0m",
      "\u001b[1;31mTypeError\u001b[0m                                 Traceback (most recent call last)",
      "\u001b[1;32m<ipython-input-92-6269f82bb0b3>\u001b[0m in \u001b[0;36m<module>\u001b[1;34m()\u001b[0m\n\u001b[0;32m      1\u001b[0m \u001b[1;31m# Strings are immutable. i.e. you can't change the values of a string. So error is expected\u001b[0m\u001b[1;33m\u001b[0m\u001b[1;33m\u001b[0m\u001b[0m\n\u001b[0;32m      2\u001b[0m \u001b[1;33m\u001b[0m\u001b[0m\n\u001b[1;32m----> 3\u001b[1;33m \u001b[0mvehicles\u001b[0m\u001b[1;33m[\u001b[0m\u001b[1;36m8\u001b[0m\u001b[1;33m]\u001b[0m \u001b[1;33m=\u001b[0m \u001b[1;34m'A'\u001b[0m\u001b[1;33m\u001b[0m\u001b[0m\n\u001b[0m",
      "\u001b[1;31mTypeError\u001b[0m: 'str' object does not support item assignment"
     ]
    }
   ],
   "source": [
    "# Strings are immutable. i.e. you can't change the values of a string. So error is expected\n",
    "\n",
    "vehicles[8] = 'A'"
   ]
  },
  {
   "cell_type": "code",
   "execution_count": 93,
   "metadata": {},
   "outputs": [
    {
     "name": "stdout",
     "output_type": "stream",
     "text": [
      "1357\n"
     ]
    }
   ],
   "source": [
    "nums ='12345678'\n",
    "odd_nums = nums[0::2]\n",
    "print(odd_nums)"
   ]
  },
  {
   "cell_type": "code",
   "execution_count": 94,
   "metadata": {},
   "outputs": [
    {
     "name": "stdout",
     "output_type": "stream",
     "text": [
      "1357\n"
     ]
    }
   ],
   "source": [
    "interval_two_level = nums[0:8:2]\n",
    "print(interval_two_level)"
   ]
  },
  {
   "cell_type": "code",
   "execution_count": 95,
   "metadata": {},
   "outputs": [
    {
     "name": "stdout",
     "output_type": "stream",
     "text": [
      "135\n"
     ]
    }
   ],
   "source": [
    "interval_two_level_again = nums[0:6:2]\n",
    "print(interval_two_level_again)"
   ]
  },
  {
   "cell_type": "code",
   "execution_count": 96,
   "metadata": {},
   "outputs": [
    {
     "name": "stdout",
     "output_type": "stream",
     "text": [
      "2468\n"
     ]
    }
   ],
   "source": [
    "even_nums = nums[1::2]\n",
    "print(even_nums)"
   ]
  },
  {
   "cell_type": "code",
   "execution_count": 97,
   "metadata": {},
   "outputs": [
    {
     "name": "stdout",
     "output_type": "stream",
     "text": [
      "24\n"
     ]
    }
   ],
   "source": [
    "even_nums_again = nums[1:5:2]\n",
    "print(even_nums_again)"
   ]
  },
  {
   "cell_type": "code",
   "execution_count": 98,
   "metadata": {},
   "outputs": [
    {
     "name": "stdout",
     "output_type": "stream",
     "text": [
      "147\n"
     ]
    }
   ],
   "source": [
    "interval_three_level = nums[0::3]\n",
    "print(interval_three_level)"
   ]
  },
  {
   "cell_type": "code",
   "execution_count": 99,
   "metadata": {},
   "outputs": [
    {
     "name": "stdout",
     "output_type": "stream",
     "text": [
      "15\n"
     ]
    }
   ],
   "source": [
    "interval_four_level = nums[0::4]\n",
    "print(interval_four_level)"
   ]
  },
  {
   "cell_type": "code",
   "execution_count": 100,
   "metadata": {},
   "outputs": [],
   "source": [
    "first_name = \"Sachin\"\n",
    "last_name = 'Tendulkar'"
   ]
  },
  {
   "cell_type": "code",
   "execution_count": 101,
   "metadata": {},
   "outputs": [
    {
     "name": "stdout",
     "output_type": "stream",
     "text": [
      "Sachin Tendulkar\n"
     ]
    }
   ],
   "source": [
    "name = first_name + \" \" + last_name\n",
    "print(name)"
   ]
  },
  {
   "cell_type": "code",
   "execution_count": 102,
   "metadata": {},
   "outputs": [
    {
     "name": "stdout",
     "output_type": "stream",
     "text": [
      "560103\n",
      "My area pincode is 560103\n"
     ]
    }
   ],
   "source": [
    "pincode = 560103\n",
    "print(pincode)\n",
    "area = (\"My area pincode is \"+ str(pincode))\n",
    "print(area)"
   ]
  },
  {
   "cell_type": "code",
   "execution_count": 103,
   "metadata": {},
   "outputs": [
    {
     "name": "stdout",
     "output_type": "stream",
     "text": [
      "My area pincode is 560103 \n"
     ]
    }
   ],
   "source": [
    "pincode = 560103\n",
    "area = \"My area pincode is {0} \".format(pincode) \n",
    "print(area)"
   ]
  },
  {
   "cell_type": "code",
   "execution_count": 105,
   "metadata": {},
   "outputs": [
    {
     "name": "stdout",
     "output_type": "stream",
     "text": [
      "comes My area under Indira Nagar\n"
     ]
    }
   ],
   "source": [
    "x = \"My area\"\n",
    "y = \"comes\"\n",
    "z = \"Indira Nagar\"\n",
    "\n",
    "print(\"{1} {0} under {2}\".format(x,y,z))"
   ]
  },
  {
   "cell_type": "code",
   "execution_count": 106,
   "metadata": {},
   "outputs": [
    {
     "name": "stdout",
     "output_type": "stream",
     "text": [
      "My weight is 67.500000\n"
     ]
    }
   ],
   "source": [
    "weight = 67.5\n",
    "print(\"My weight is %f\" %weight)"
   ]
  },
  {
   "cell_type": "code",
   "execution_count": 107,
   "metadata": {},
   "outputs": [
    {
     "name": "stdout",
     "output_type": "stream",
     "text": [
      "My height is 178 cm\n"
     ]
    }
   ],
   "source": [
    "height = 178\n",
    "print(\"My height is %d cm\" %height)"
   ]
  }
 ],
 "metadata": {
  "anaconda-cloud": {},
  "kernelspec": {
   "display_name": "Python 3",
   "language": "python",
   "name": "python3"
  },
  "language_info": {
   "codemirror_mode": {
    "name": "ipython",
    "version": 3
   },
   "file_extension": ".py",
   "mimetype": "text/x-python",
   "name": "python",
   "nbconvert_exporter": "python",
   "pygments_lexer": "ipython3",
   "version": "3.5.2"
  }
 },
 "nbformat": 4,
 "nbformat_minor": 1
}
