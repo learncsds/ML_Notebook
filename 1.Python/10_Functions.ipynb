{
 "cells": [
  {
   "cell_type": "markdown",
   "metadata": {},
   "source": [
    "## Functions\n",
    "\n",
    "A function is a way of reusing a block of code so that it can be used more than once. Functions give the programmer the ability to reduce code redundancy and eliminate hours of wasted work. Each function allows the code to be centralized, where one change to the function will affect everything that depends on it\n",
    "\n",
    "To create a function, use the def keyword, followed by the function's name, with an empty pair of parentheses, ending with a colon. Functions make up a code block, so you'll need to indent any code that's within the function. Don't forget to indent, otherwise you'll get the pesky \"IndentationError\""
   ]
  },
  {
   "cell_type": "code",
   "execution_count": null,
   "metadata": {},
   "outputs": [],
   "source": [
    "# Defining a function in Python\n",
    "\n",
    "def start():\n",
    "    print('You just declared your first function')\n",
    "\n",
    "start()\n",
    "   "
   ]
  },
  {
   "cell_type": "code",
   "execution_count": null,
   "metadata": {},
   "outputs": [],
   "source": [
    "# Creating another function which accepts parameters\n",
    "\n"
   ]
  },
  {
   "cell_type": "code",
   "execution_count": 1,
   "metadata": {},
   "outputs": [],
   "source": [
    "def addition(num1, num2):\n",
    "    out_value = num1+num2\n",
    "    return out_value"
   ]
  },
  {
   "cell_type": "code",
   "execution_count": 2,
   "metadata": {},
   "outputs": [],
   "source": [
    "\n",
    "def square(num):\n",
    "    out_value = num**2\n",
    "    return(out_value)"
   ]
  },
  {
   "cell_type": "code",
   "execution_count": 3,
   "metadata": {},
   "outputs": [
    {
     "name": "stdout",
     "output_type": "stream",
     "text": [
      "30\n",
      "225\n"
     ]
    }
   ],
   "source": [
    "# Calling the function\n",
    "\n",
    "result_square = addition(7,8)\n",
    "print(result_square*2)\n",
    "print(square(15))"
   ]
  },
  {
   "cell_type": "code",
   "execution_count": 4,
   "metadata": {},
   "outputs": [],
   "source": [
    "def multi(num):\n",
    "    out = num*2\n",
    "    print(out)\n",
    "    return out\n"
   ]
  },
  {
   "cell_type": "code",
   "execution_count": 5,
   "metadata": {},
   "outputs": [
    {
     "name": "stdout",
     "output_type": "stream",
     "text": [
      "14\n",
      "Result is: 14 Square of Num is: 64\n"
     ]
    }
   ],
   "source": [
    "# Notice that it prints None as we are not returning any value in multi function.\n",
    "sum_num = square(8)\n",
    "str_result = multi(7)\n",
    "print(\"Result is: \"+str(str_result)+\" Square of Num is: \"+str(sum_num))\n"
   ]
  },
  {
   "cell_type": "code",
   "execution_count": 6,
   "metadata": {},
   "outputs": [
    {
     "name": "stdout",
     "output_type": "stream",
     "text": [
      "3628800\n"
     ]
    }
   ],
   "source": [
    "#Typicalfactorial function\n",
    "\n",
    "def factorial(n):\n",
    "    if n>1:\n",
    "        return n*factorial(n-1)\n",
    "    else:\n",
    "        return 1\n",
    "\n",
    "fact = factorial(10)\n",
    "print(fact)\n"
   ]
  },
  {
   "cell_type": "code",
   "execution_count": 12,
   "metadata": {},
   "outputs": [
    {
     "data": {
      "text/plain": [
       "6"
      ]
     },
     "execution_count": 12,
     "metadata": {},
     "output_type": "execute_result"
    }
   ],
   "source": [
    "def factsum(n):\n",
    "    if (n > 1):\n",
    "        return n * factsum(n-1)\n",
    "    else:\n",
    "        return 1;\n",
    "    \n",
    "factsum(3)\n",
    "    \n"
   ]
  },
  {
   "cell_type": "code",
   "execution_count": 17,
   "metadata": {},
   "outputs": [
    {
     "name": "stdout",
     "output_type": "stream",
     "text": [
      "154\n"
     ]
    }
   ],
   "source": [
    "\n",
    "def fsum(n):\n",
    "    j=0;\n",
    "    for i in range(n+1):\n",
    "        j=j+factsum(i)\n",
    "    print(j)\n",
    "    \n",
    "fsum(5)"
   ]
  },
  {
   "cell_type": "code",
   "execution_count": 10,
   "metadata": {},
   "outputs": [],
   "source": [
    "def addition(*args):\n",
    "    print(args)\n",
    "    return(sum(args))\n"
   ]
  },
  {
   "cell_type": "code",
   "execution_count": 11,
   "metadata": {},
   "outputs": [
    {
     "name": "stdout",
     "output_type": "stream",
     "text": [
      "(4, 5, 6, 7, 8, 9)\n",
      "39\n",
      "(1, 2)\n",
      "3\n"
     ]
    }
   ],
   "source": [
    "# Notice that it is printing the list also as we have printing the arguments in addition function\n",
    "print(addition(4,5,6,7,8,9))\n",
    "print(addition(1,2))"
   ]
  },
  {
   "cell_type": "code",
   "execution_count": 12,
   "metadata": {},
   "outputs": [
    {
     "name": "stdout",
     "output_type": "stream",
     "text": [
      "Mahendra Singh Dhoni\n"
     ]
    }
   ],
   "source": [
    "# strp() function trims the spaces on both sides of the string\n",
    "#join() function add the items in the list with the value upon which we call the join function\n",
    "\n",
    "def make_upper(input_text):\n",
    "    input_text = input_text.strip()\n",
    "    input_text = \" \".join([word[0].upper() + word[1:] for word in input_text.split()])\n",
    "    return input_text\n",
    "\n",
    "captain = make_upper(\"mahendra singh dhoni  \")\n",
    "print(captain)\n"
   ]
  },
  {
   "cell_type": "code",
   "execution_count": 18,
   "metadata": {},
   "outputs": [
    {
     "data": {
      "text/plain": [
       "['mahendra', 'singh', 'dhoni']"
      ]
     },
     "execution_count": 18,
     "metadata": {},
     "output_type": "execute_result"
    }
   ],
   "source": [
    "'''Using the lambda function we can iterate every item in a list or tuple or dictionary and apply some operation on each item\n",
    "In this example we are creating a list by splitting the input based on space.  Lambda function iterating through that list \n",
    "and adds those values in the new list calles string_to_list''' \n",
    "\n",
    "string_to_list = lambda x: x.split()\n",
    "string_to_list('mahendra singh dhoni')\n",
    "#print(string_to_list())\n",
    "#print(type(string_to_list))\n"
   ]
  },
  {
   "cell_type": "code",
   "execution_count": null,
   "metadata": {},
   "outputs": [],
   "source": []
  },
  {
   "cell_type": "code",
   "execution_count": 19,
   "metadata": {},
   "outputs": [
    {
     "name": "stdout",
     "output_type": "stream",
     "text": [
      "<class 'int'>\n",
      "<class 'function'>\n",
      "12\n"
     ]
    }
   ],
   "source": [
    "# Here we are taking the values as input and applying multiplication on those values using lambda function\n",
    "\n",
    "product = lambda x, y : x*y\n",
    "print(type(product(3,4)))\n",
    "print(type(product))\n",
    "print(product(3,4))"
   ]
  },
  {
   "cell_type": "code",
   "execution_count": null,
   "metadata": {},
   "outputs": [],
   "source": []
  }
 ],
 "metadata": {
  "anaconda-cloud": {},
  "kernelspec": {
   "display_name": "Python 3",
   "language": "python",
   "name": "python3"
  },
  "language_info": {
   "codemirror_mode": {
    "name": "ipython",
    "version": 3
   },
   "file_extension": ".py",
   "mimetype": "text/x-python",
   "name": "python",
   "nbconvert_exporter": "python",
   "pygments_lexer": "ipython3",
   "version": "3.7.1"
  }
 },
 "nbformat": 4,
 "nbformat_minor": 1
}
