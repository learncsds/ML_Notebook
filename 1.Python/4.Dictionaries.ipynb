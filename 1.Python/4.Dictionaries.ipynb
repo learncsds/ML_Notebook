{
 "cells": [
  {
   "cell_type": "markdown",
   "metadata": {},
   "source": [
    "### Dictionaries\n",
    "So far we discussed about Lists and Tuples which are index based. Dictionaries are other type of Data structure in Python comprising key, value pair. \n",
    "\n",
    "A dictionary is used to map or associate things you want to store the keys you need to get them. A dictionary in Python is just like a dictionary in the real world which has a word as the key and many meanings for that key as values. \n",
    "\n",
    "Keys will be a single element\n",
    "Values can be a list or list within a list, numbers, etc.\n",
    "\n",
    "Properties of Dictionary Keys\n",
    "\n",
    "There are two important points while using dictionary keys\n",
    "\n",
    "   - Keys will be a single element\n",
    "   \n",
    "   - Values can be a list or list within a list, numbers, etc.\n",
    "\n",
    "   - More than one entry per key is not allowed ( no duplicate key is allowed)\n",
    "   \n",
    "   - The values in the dictionary can be of any type while the keys must be immutable like numbers, tuples or strings.\n",
    "   \n",
    "   - Dictionary keys are case sensitive- Same key name but with the different case are treated as different keys in Python    dictionaries."
   ]
  },
  {
   "cell_type": "code",
   "execution_count": 1,
   "metadata": {},
   "outputs": [
    {
     "name": "stdout",
     "output_type": "stream",
     "text": [
      "<class 'dict'>\n"
     ]
    }
   ],
   "source": [
    "#Create an empty dictionary\n",
    "\n",
    "empty_dictionary = {}\n",
    "print(type(empty_dictionary))"
   ]
  },
  {
   "cell_type": "code",
   "execution_count": 9,
   "metadata": {},
   "outputs": [
    {
     "name": "stdout",
     "output_type": "stream",
     "text": [
      "{'Name': 'Ram', 'Age': 43, 'Height': '6.1 ft', 2: 'Music'}\n"
     ]
    }
   ],
   "source": [
    "#Create a dictionary\n",
    "\n",
    "personal_data = {'Name': 'Ram', 'Age':(43), 'Height':\"6.1 ft\", 2: 'Music'}\n",
    "print(personal_data)"
   ]
  },
  {
   "cell_type": "code",
   "execution_count": 5,
   "metadata": {},
   "outputs": [
    {
     "name": "stdout",
     "output_type": "stream",
     "text": [
      "{'Lakshman': 'Bangalore', 'Vijay': 560103, 'Ajay': 45}\n"
     ]
    }
   ],
   "source": [
    "#Another example of dictionary with integers as values. Dictionary accepts all data types as values\n",
    "\n",
    "new_data = { 'Lakshman' : 'Bangalore' , 'Vijay': 560103 , 'Ajay' :45 } \n",
    "print(new_data)"
   ]
  },
  {
   "cell_type": "code",
   "execution_count": 6,
   "metadata": {},
   "outputs": [
    {
     "name": "stdout",
     "output_type": "stream",
     "text": [
      "Music\n"
     ]
    }
   ],
   "source": [
    "#Access the value of key 'Hobby' from personal_data dictionary\n",
    "\n",
    "hobby = personal_data['Hobby']\n",
    "print(hobby)"
   ]
  },
  {
   "cell_type": "code",
   "execution_count": 10,
   "metadata": {},
   "outputs": [
    {
     "name": "stdout",
     "output_type": "stream",
     "text": [
      "Music\n"
     ]
    }
   ],
   "source": [
    "hobby = personal_data[2]\n",
    "print(hobby)"
   ]
  },
  {
   "cell_type": "code",
   "execution_count": 11,
   "metadata": {},
   "outputs": [
    {
     "name": "stdout",
     "output_type": "stream",
     "text": [
      "43\n"
     ]
    }
   ],
   "source": [
    "age = personal_data['Age']\n",
    "print(age)"
   ]
  },
  {
   "cell_type": "code",
   "execution_count": 12,
   "metadata": {},
   "outputs": [
    {
     "data": {
      "text/plain": [
       "14"
      ]
     },
     "execution_count": 12,
     "metadata": {},
     "output_type": "execute_result"
    }
   ],
   "source": [
    "#Edit the value of key\n",
    "\n",
    "personal_data['Age'] = 14\n",
    "personal_data['Age']"
   ]
  },
  {
   "cell_type": "code",
   "execution_count": 13,
   "metadata": {},
   "outputs": [
    {
     "name": "stdout",
     "output_type": "stream",
     "text": [
      "{'Name': 'Ram', 'Age': 14, 'Height': '6.1 ft', 2: 'Music'}\n"
     ]
    }
   ],
   "source": [
    "print(personal_data)"
   ]
  },
  {
   "cell_type": "markdown",
   "metadata": {},
   "source": [
    "### Dictionary Methods\n",
    "\n",
    "\n",
    "| Method | Use | Explanation |\n",
    "|----|---|\n",
    "| keys | adict.keys() |Returns the keys of the dictionary in a dict_keys object |\n",
    "| values\t| adict.values() |\tReturns the values of the dictionary in a dict_values object |\n",
    "| items\t|adict.items()\t|Returns the key-value pairs in a dict_items object|\n",
    "| get\t|adict.get(k)\t|Returns the value associated with k, None otherwise|\n",
    "| get\t|adict.get(k,alt)\t|Returns the value associated with k, alt otherwise|"
   ]
  },
  {
   "cell_type": "code",
   "execution_count": 14,
   "metadata": {},
   "outputs": [
    {
     "name": "stdout",
     "output_type": "stream",
     "text": [
      "14\n"
     ]
    }
   ],
   "source": [
    "#Another way of accessing the value using the key\n",
    "\n",
    "age = personal_data.get('Age')\n",
    "print(age)"
   ]
  },
  {
   "cell_type": "code",
   "execution_count": 15,
   "metadata": {},
   "outputs": [],
   "source": [
    "personal_data['Profession'] = 'Engineer'"
   ]
  },
  {
   "cell_type": "code",
   "execution_count": 16,
   "metadata": {},
   "outputs": [
    {
     "data": {
      "text/plain": [
       "{'Name': 'Ram',\n",
       " 'Age': 14,\n",
       " 'Height': '6.1 ft',\n",
       " 2: 'Music',\n",
       " 'Profession': 'Engineer'}"
      ]
     },
     "execution_count": 16,
     "metadata": {},
     "output_type": "execute_result"
    }
   ],
   "source": [
    "personal_data"
   ]
  },
  {
   "cell_type": "code",
   "execution_count": 18,
   "metadata": {},
   "outputs": [
    {
     "name": "stdout",
     "output_type": "stream",
     "text": [
      "Doctor\n",
      "{'Name': 'Ram', 'Age': 14, 'Height': '6.1 ft', 2: 'Music', 'Profession': 'Engineer'}\n"
     ]
    }
   ],
   "source": [
    "profession  =  personal_data.get('living','Doctor')\n",
    "print(profession)\n",
    "print(personal_data)"
   ]
  },
  {
   "cell_type": "code",
   "execution_count": 19,
   "metadata": {},
   "outputs": [
    {
     "name": "stdout",
     "output_type": "stream",
     "text": [
      "{'Name': 'Ram', 'Age': 36, 'Height': '6.1 ft', 2: 'Music', 'Profession': 'Engineer'}\n"
     ]
    }
   ],
   "source": [
    "#Add a new key and value to the dictionary\n",
    "\n",
    "personal_data['Age'] = 36\n",
    "print(personal_data)"
   ]
  },
  {
   "cell_type": "code",
   "execution_count": 20,
   "metadata": {},
   "outputs": [
    {
     "name": "stdout",
     "output_type": "stream",
     "text": [
      "{'Name': 'Ram', 'Age': 36, 'Height': '6.1 ft', 2: 'Music', 'Profession': 'Singer'}\n"
     ]
    }
   ],
   "source": [
    "#Add a new key and value to the dictionary\n",
    "\n",
    "personal_data['Profession'] = 'Singer'\n",
    "print(personal_data)"
   ]
  },
  {
   "cell_type": "code",
   "execution_count": 21,
   "metadata": {},
   "outputs": [
    {
     "name": "stdout",
     "output_type": "stream",
     "text": [
      "True\n"
     ]
    }
   ],
   "source": [
    "#Check if key 'Profession' exists in the dictionary\n",
    "\n",
    "print('Profession' in personal_data)"
   ]
  },
  {
   "cell_type": "code",
   "execution_count": 26,
   "metadata": {},
   "outputs": [
    {
     "name": "stdout",
     "output_type": "stream",
     "text": [
      "dict_keys(['Name', 'Age', 'Height', 2, 'Profession'])\n",
      "dict_values(['Ram', 36, '6.1 ft', 'Music', 'Singer'])\n"
     ]
    }
   ],
   "source": [
    "#get list of all keys in dictionary\n",
    "print(personal_data.keys())\n",
    "\n",
    "#get list of all values in dictionary\n",
    "print(personal_data.values())"
   ]
  },
  {
   "cell_type": "code",
   "execution_count": 27,
   "metadata": {},
   "outputs": [
    {
     "name": "stdout",
     "output_type": "stream",
     "text": [
      "{'State': 'Andhra Pradesh', 'Cities': ['Vijayawada', 'Visakhapatnam']}\n"
     ]
    }
   ],
   "source": [
    "#Another way of creating the dictionary using 'dict' function\n",
    "\n",
    "new_dictionary = dict(State='Andhra Pradesh', Cities=['Vijayawada','Visakhapatnam'])\n",
    "print(new_dictionary)"
   ]
  },
  {
   "cell_type": "code",
   "execution_count": 28,
   "metadata": {},
   "outputs": [
    {
     "name": "stdout",
     "output_type": "stream",
     "text": [
      "{'Name': 'Ram', 'Age': 36, 'Height': '6.1 ft', 2: 'Music', 'Profession': 'Singer', 'State': 'Andhra Pradesh', 'Cities': ['Vijayawada', 'Visakhapatnam']}\n"
     ]
    }
   ],
   "source": [
    "#Update the existing dictionary 'personal_data' with the new values\n",
    "\n",
    "personal_data.update(new_dictionary)\n",
    "print(personal_data)"
   ]
  },
  {
   "cell_type": "code",
   "execution_count": null,
   "metadata": {},
   "outputs": [],
   "source": [
    "print(personal_data)"
   ]
  },
  {
   "cell_type": "code",
   "execution_count": 29,
   "metadata": {},
   "outputs": [
    {
     "data": {
      "text/plain": [
       "{'Name': 'Ram',\n",
       " 'Age': 36,\n",
       " 'Height': '6.1 ft',\n",
       " 2: 'Music',\n",
       " 'Profession': 'Singer',\n",
       " 'State': 'Andhra Pradesh',\n",
       " 'Cities': ['Vijayawada', 'Visakhapatnam'],\n",
       " 'Weight': 46.8}"
      ]
     },
     "execution_count": 29,
     "metadata": {},
     "output_type": "execute_result"
    }
   ],
   "source": [
    "test_dict = {'Weight':46.8}\n",
    "personal_data.update(test_dict)\n",
    "personal_data"
   ]
  },
  {
   "cell_type": "code",
   "execution_count": 31,
   "metadata": {},
   "outputs": [
    {
     "ename": "TypeError",
     "evalue": "'<' not supported between instances of 'int' and 'str'",
     "output_type": "error",
     "traceback": [
      "\u001b[1;31m---------------------------------------------------------------------------\u001b[0m",
      "\u001b[1;31mTypeError\u001b[0m                                 Traceback (most recent call last)",
      "\u001b[1;32m<ipython-input-31-67be5d3803ad>\u001b[0m in \u001b[0;36m<module>\u001b[1;34m\u001b[0m\n\u001b[0;32m      1\u001b[0m \u001b[1;31m#Sort the dictionary based on keys\u001b[0m\u001b[1;33m\u001b[0m\u001b[1;33m\u001b[0m\u001b[0m\n\u001b[0;32m      2\u001b[0m \u001b[1;33m\u001b[0m\u001b[0m\n\u001b[1;32m----> 3\u001b[1;33m \u001b[0ma\u001b[0m \u001b[1;33m=\u001b[0m \u001b[0msorted\u001b[0m\u001b[1;33m(\u001b[0m\u001b[0mpersonal_data\u001b[0m\u001b[1;33m)\u001b[0m\u001b[1;33m\u001b[0m\u001b[0m\n\u001b[0m\u001b[0;32m      4\u001b[0m \u001b[0mprint\u001b[0m\u001b[1;33m(\u001b[0m\u001b[0mpersonal_data\u001b[0m\u001b[1;33m)\u001b[0m\u001b[1;33m\u001b[0m\u001b[0m\n",
      "\u001b[1;31mTypeError\u001b[0m: '<' not supported between instances of 'int' and 'str'"
     ]
    }
   ],
   "source": [
    "#Sort the dictionary based on keys\n",
    "\n",
    "a = sorted(personal_data)\n",
    "print(personal_data)"
   ]
  },
  {
   "cell_type": "code",
   "execution_count": 32,
   "metadata": {},
   "outputs": [
    {
     "name": "stdout",
     "output_type": "stream",
     "text": [
      "{1: ['Sachin Tendukar', 45], 2: ['Saurav Ganguly', 46], 3: ['Rahul Dravid', 44], 4: ['Virendra Sehwag', 39], 5: ['Virat Kohli', 29]}\n"
     ]
    }
   ],
   "source": [
    "cricketers_data = { 1:['Sachin Tendukar', 45] , 2:['Saurav Ganguly',46], 3:['Rahul Dravid', 44], 4:['Virendra Sehwag',39], 5:['Virat Kohli',29]}\n",
    "\n",
    "print(cricketers_data)"
   ]
  },
  {
   "cell_type": "code",
   "execution_count": 33,
   "metadata": {},
   "outputs": [
    {
     "name": "stdout",
     "output_type": "stream",
     "text": [
      "5\n"
     ]
    }
   ],
   "source": [
    "print(len(cricketers_data))"
   ]
  },
  {
   "cell_type": "code",
   "execution_count": 34,
   "metadata": {},
   "outputs": [
    {
     "name": "stdout",
     "output_type": "stream",
     "text": [
      "[['Sachin Tendukar', 45], ['Saurav Ganguly', 46], ['Rahul Dravid', 44], ['Virendra Sehwag', 39], ['Virat Kohli', 29]]\n"
     ]
    }
   ],
   "source": [
    "#see all the details of Cricketers. \n",
    "print(list(cricketers_data.values()))\n"
   ]
  },
  {
   "cell_type": "code",
   "execution_count": 35,
   "metadata": {
    "scrolled": true
   },
   "outputs": [
    {
     "name": "stdout",
     "output_type": "stream",
     "text": [
      "{1: ['Sachin Tendukar', 45], 2: ['Saurav Ganguly', 46], 3: ['Rahul Dravid', 44], 4: ['Virendra Sehwag', 39], 5: ['Rohit Sharma', 31]}\n"
     ]
    }
   ],
   "source": [
    "#Add new key, value pair to the dictionary. Here vlaue is a list\n",
    "\n",
    "cricketers_data[5] = ['Rohit Sharma', 31]\n",
    "print(cricketers_data)\n"
   ]
  },
  {
   "cell_type": "code",
   "execution_count": 36,
   "metadata": {},
   "outputs": [
    {
     "name": "stdout",
     "output_type": "stream",
     "text": [
      "{1: ['Sachin Tendukar', 45], 2: ['Saurav Ganguly', 46], 3: ['Rahul Dravid', 44], 4: ['Virendra Sehwag', 39]}\n"
     ]
    }
   ],
   "source": [
    "#delete key, value pair from dictionary\n",
    "\n",
    "del cricketers_data[5]\n",
    "print(cricketers_data)"
   ]
  },
  {
   "cell_type": "code",
   "execution_count": 37,
   "metadata": {},
   "outputs": [
    {
     "name": "stdout",
     "output_type": "stream",
     "text": [
      "{1: ['Sachin Tendukar', 45], 3: ['Rahul Dravid', 44], 4: ['Virendra Sehwag', 39]}\n"
     ]
    }
   ],
   "source": [
    "del cricketers_data[2]\n",
    "print(cricketers_data)"
   ]
  },
  {
   "cell_type": "code",
   "execution_count": 38,
   "metadata": {},
   "outputs": [
    {
     "name": "stdout",
     "output_type": "stream",
     "text": [
      "[1, 3, 4]\n"
     ]
    }
   ],
   "source": [
    "# All keys of dictonary\n",
    "\n",
    "print(list(cricketers_data.keys()))\n"
   ]
  },
  {
   "cell_type": "code",
   "execution_count": 39,
   "metadata": {},
   "outputs": [
    {
     "data": {
      "text/plain": [
       "'Sachin Tendukar'"
      ]
     },
     "execution_count": 39,
     "metadata": {},
     "output_type": "execute_result"
    }
   ],
   "source": [
    "cricketers_data[1][0]"
   ]
  },
  {
   "cell_type": "code",
   "execution_count": 40,
   "metadata": {},
   "outputs": [
    {
     "data": {
      "text/plain": [
       "34.5"
      ]
     },
     "execution_count": 40,
     "metadata": {},
     "output_type": "execute_result"
    }
   ],
   "source": [
    "# Dictionary of dictionaries\n",
    "\n",
    "students = { 'ram': { 'class':'8th standard', 'weight':26.77 },\n",
    "           'saif': { 'class':'5th standard', 'weight':19.8 },\n",
    "           'rahul': { 'class':'10th standard', 'weight':34.5 },\n",
    "           'vijay': { 'class':'4th standard', 'weight':17.25 } }\n",
    "\n",
    "students['rahul']['weight']"
   ]
  },
  {
   "cell_type": "code",
   "execution_count": 41,
   "metadata": {},
   "outputs": [
    {
     "data": {
      "text/plain": [
       "{'ram': {'class': '8th standard', 'weight': 26.77},\n",
       " 'saif': {'class': '5th standard', 'weight': 19.8},\n",
       " 'rahul': {'class': '10th standard', 'weight': 34.5},\n",
       " 'vijay': {'class': '4th standard', 'weight': 17.25},\n",
       " 'lev': {'class': '7th standard', 'weight': 24.6}}"
      ]
     },
     "execution_count": 41,
     "metadata": {},
     "output_type": "execute_result"
    }
   ],
   "source": [
    "new_data1 = dict(lev={'class':'7th standard', 'weight': 24.6})\n",
    "#new_data1 = {'Rahim':}\n",
    "#students[5] = new_data\n",
    "students.update(new_data1)\n",
    "students"
   ]
  }
 ],
 "metadata": {
  "anaconda-cloud": {},
  "kernelspec": {
   "display_name": "Python 3",
   "language": "python",
   "name": "python3"
  },
  "language_info": {
   "codemirror_mode": {
    "name": "ipython",
    "version": 3
   },
   "file_extension": ".py",
   "mimetype": "text/x-python",
   "name": "python",
   "nbconvert_exporter": "python",
   "pygments_lexer": "ipython3",
   "version": "3.6.5"
  }
 },
 "nbformat": 4,
 "nbformat_minor": 1
}
