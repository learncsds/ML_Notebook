{
 "cells": [
  {
   "cell_type": "markdown",
   "metadata": {},
   "source": [
    "## Model Selection using RFE(HOUSING CASE STUDY)"
   ]
  },
  {
   "cell_type": "markdown",
   "metadata": {},
   "source": [
    "### Importing and Understanding Data"
   ]
  },
  {
   "cell_type": "code",
   "execution_count": 95,
   "metadata": {},
   "outputs": [],
   "source": [
    "import pandas as pd\n",
    "import numpy as np"
   ]
  },
  {
   "cell_type": "code",
   "execution_count": 96,
   "metadata": {},
   "outputs": [],
   "source": [
    "# Importing Housing.csv\n",
    "housing = pd.read_csv('Housing.csv')"
   ]
  },
  {
   "cell_type": "code",
   "execution_count": 97,
   "metadata": {},
   "outputs": [
    {
     "data": {
      "text/html": [
       "<div>\n",
       "<style scoped>\n",
       "    .dataframe tbody tr th:only-of-type {\n",
       "        vertical-align: middle;\n",
       "    }\n",
       "\n",
       "    .dataframe tbody tr th {\n",
       "        vertical-align: top;\n",
       "    }\n",
       "\n",
       "    .dataframe thead th {\n",
       "        text-align: right;\n",
       "    }\n",
       "</style>\n",
       "<table border=\"1\" class=\"dataframe\">\n",
       "  <thead>\n",
       "    <tr style=\"text-align: right;\">\n",
       "      <th></th>\n",
       "      <th>price</th>\n",
       "      <th>area</th>\n",
       "      <th>bedrooms</th>\n",
       "      <th>bathrooms</th>\n",
       "      <th>stories</th>\n",
       "      <th>mainroad</th>\n",
       "      <th>guestroom</th>\n",
       "      <th>basement</th>\n",
       "      <th>hotwaterheating</th>\n",
       "      <th>airconditioning</th>\n",
       "      <th>parking</th>\n",
       "      <th>prefarea</th>\n",
       "      <th>furnishingstatus</th>\n",
       "    </tr>\n",
       "  </thead>\n",
       "  <tbody>\n",
       "    <tr>\n",
       "      <th>0</th>\n",
       "      <td>13300000</td>\n",
       "      <td>7420</td>\n",
       "      <td>4</td>\n",
       "      <td>2</td>\n",
       "      <td>3</td>\n",
       "      <td>yes</td>\n",
       "      <td>no</td>\n",
       "      <td>no</td>\n",
       "      <td>no</td>\n",
       "      <td>yes</td>\n",
       "      <td>2</td>\n",
       "      <td>yes</td>\n",
       "      <td>furnished</td>\n",
       "    </tr>\n",
       "    <tr>\n",
       "      <th>1</th>\n",
       "      <td>12250000</td>\n",
       "      <td>8960</td>\n",
       "      <td>4</td>\n",
       "      <td>4</td>\n",
       "      <td>4</td>\n",
       "      <td>yes</td>\n",
       "      <td>no</td>\n",
       "      <td>no</td>\n",
       "      <td>no</td>\n",
       "      <td>yes</td>\n",
       "      <td>3</td>\n",
       "      <td>no</td>\n",
       "      <td>furnished</td>\n",
       "    </tr>\n",
       "    <tr>\n",
       "      <th>2</th>\n",
       "      <td>12250000</td>\n",
       "      <td>9960</td>\n",
       "      <td>3</td>\n",
       "      <td>2</td>\n",
       "      <td>2</td>\n",
       "      <td>yes</td>\n",
       "      <td>no</td>\n",
       "      <td>yes</td>\n",
       "      <td>no</td>\n",
       "      <td>no</td>\n",
       "      <td>2</td>\n",
       "      <td>yes</td>\n",
       "      <td>semi-furnished</td>\n",
       "    </tr>\n",
       "    <tr>\n",
       "      <th>3</th>\n",
       "      <td>12215000</td>\n",
       "      <td>7500</td>\n",
       "      <td>4</td>\n",
       "      <td>2</td>\n",
       "      <td>2</td>\n",
       "      <td>yes</td>\n",
       "      <td>no</td>\n",
       "      <td>yes</td>\n",
       "      <td>no</td>\n",
       "      <td>yes</td>\n",
       "      <td>3</td>\n",
       "      <td>yes</td>\n",
       "      <td>furnished</td>\n",
       "    </tr>\n",
       "    <tr>\n",
       "      <th>4</th>\n",
       "      <td>11410000</td>\n",
       "      <td>7420</td>\n",
       "      <td>4</td>\n",
       "      <td>1</td>\n",
       "      <td>2</td>\n",
       "      <td>yes</td>\n",
       "      <td>yes</td>\n",
       "      <td>yes</td>\n",
       "      <td>no</td>\n",
       "      <td>yes</td>\n",
       "      <td>2</td>\n",
       "      <td>no</td>\n",
       "      <td>furnished</td>\n",
       "    </tr>\n",
       "  </tbody>\n",
       "</table>\n",
       "</div>"
      ],
      "text/plain": [
       "      price  area  bedrooms  bathrooms  stories mainroad guestroom basement  \\\n",
       "0  13300000  7420         4          2        3      yes        no       no   \n",
       "1  12250000  8960         4          4        4      yes        no       no   \n",
       "2  12250000  9960         3          2        2      yes        no      yes   \n",
       "3  12215000  7500         4          2        2      yes        no      yes   \n",
       "4  11410000  7420         4          1        2      yes       yes      yes   \n",
       "\n",
       "  hotwaterheating airconditioning  parking prefarea furnishingstatus  \n",
       "0              no             yes        2      yes        furnished  \n",
       "1              no             yes        3       no        furnished  \n",
       "2              no              no        2      yes   semi-furnished  \n",
       "3              no             yes        3      yes        furnished  \n",
       "4              no             yes        2       no        furnished  "
      ]
     },
     "execution_count": 97,
     "metadata": {},
     "output_type": "execute_result"
    }
   ],
   "source": [
    "# Looking at the first five rows\n",
    "housing.head()"
   ]
  },
  {
   "cell_type": "markdown",
   "metadata": {},
   "source": [
    "### Data Preparation"
   ]
  },
  {
   "cell_type": "code",
   "execution_count": 98,
   "metadata": {},
   "outputs": [],
   "source": [
    "# Converting Yes to 1 and No to 0\n",
    "housing['mainroad'] = housing['mainroad'].map({'yes': 1, 'no': 0})\n",
    "housing['guestroom'] = housing['guestroom'].map({'yes': 1, 'no': 0})\n",
    "housing['basement'] = housing['basement'].map({'yes': 1, 'no': 0})\n",
    "housing['hotwaterheating'] = housing['hotwaterheating'].map({'yes': 1, 'no': 0})\n",
    "housing['airconditioning'] = housing['airconditioning'].map({'yes': 1, 'no': 0})\n",
    "housing['prefarea'] = housing['prefarea'].map({'yes': 1, 'no': 0})"
   ]
  },
  {
   "cell_type": "code",
   "execution_count": 99,
   "metadata": {},
   "outputs": [],
   "source": [
    "# Creating dummy variable for variable furnishingstatus and dropping the first one\n",
    "status = pd.get_dummies(housing['furnishingstatus'],drop_first=True)"
   ]
  },
  {
   "cell_type": "code",
   "execution_count": 100,
   "metadata": {},
   "outputs": [],
   "source": [
    "#Adding the results to the master dataframe\n",
    "housing = pd.concat([housing,status],axis=1)"
   ]
  },
  {
   "cell_type": "code",
   "execution_count": 101,
   "metadata": {},
   "outputs": [],
   "source": [
    "# Dropping the variable 'furnishingstatus'\n",
    "housing.drop(['furnishingstatus'],axis=1,inplace=True)"
   ]
  },
  {
   "cell_type": "markdown",
   "metadata": {},
   "source": [
    "#### Creating a new variable"
   ]
  },
  {
   "cell_type": "code",
   "execution_count": 102,
   "metadata": {},
   "outputs": [],
   "source": [
    "# Let us create the new metric and assign it to \"areaperbedroom\"\n",
    "housing['areaperbedroom'] = housing['area']/housing['bedrooms']"
   ]
  },
  {
   "cell_type": "code",
   "execution_count": 103,
   "metadata": {},
   "outputs": [],
   "source": [
    "# Metric: bathrooms per bedroom\n",
    "housing['bbratio'] = housing['bathrooms']/housing['bedrooms']"
   ]
  },
  {
   "cell_type": "markdown",
   "metadata": {},
   "source": [
    "### Rescaling the Features \n",
    "It is extremely important to rescale the variables so that they have a comparable scale. \n",
    "There are twocoon ways of rescaling \n",
    "1. Normalisation (min-max scaling) and \n",
    "2. standardisation (mean-o, sigma-1) \n",
    "Let's try normalisation"
   ]
  },
  {
   "cell_type": "code",
   "execution_count": 104,
   "metadata": {},
   "outputs": [],
   "source": [
    "#defining a normalisation function \n",
    "def normalize (x): \n",
    "    return ( (x-np.mean(x))/ (max(x) - min(x)))\n",
    "                                            \n",
    "                                              \n",
    "# applying normalize ( ) to all columns \n",
    "housing = housing.apply(normalize)"
   ]
  },
  {
   "cell_type": "markdown",
   "metadata": {},
   "source": [
    "### Splitting data into training and testing sets"
   ]
  },
  {
   "cell_type": "code",
   "execution_count": 105,
   "metadata": {},
   "outputs": [],
   "source": [
    "# Putting feature variable to X\n",
    "X = housing[['area', 'bedrooms', 'bathrooms', 'stories', 'mainroad',\n",
    "       'guestroom', 'basement', 'hotwaterheating', 'airconditioning',\n",
    "       'parking', 'prefarea', 'semi-furnished', 'unfurnished',\n",
    "       'areaperbedroom', 'bbratio']]\n",
    "\n",
    "# Putting response variable to y\n",
    "y = housing['price']"
   ]
  },
  {
   "cell_type": "code",
   "execution_count": 106,
   "metadata": {},
   "outputs": [],
   "source": [
    "#random_state is the seed used by the random number generator, it can be any integer.\n",
    "from sklearn.cross_validation import train_test_split\n",
    "X_train, X_test, y_train, y_test = train_test_split(X, y, train_size=0.7 ,test_size = 0.3, random_state=100)"
   ]
  },
  {
   "cell_type": "code",
   "execution_count": 107,
   "metadata": {},
   "outputs": [],
   "source": [
    "# UDF for calculating vif value\n",
    "def vif_cal(input_data, dependent_col):\n",
    "    vif_df = pd.DataFrame( columns = ['Var', 'Vif'])\n",
    "    x_vars=input_data.drop([dependent_col], axis=1)\n",
    "    xvar_names=x_vars.columns\n",
    "    for i in range(0,xvar_names.shape[0]):\n",
    "        y=x_vars[xvar_names[i]] \n",
    "        x=x_vars[xvar_names.drop(xvar_names[i])]\n",
    "        rsq=sm.OLS(y,x).fit().rsquared  \n",
    "        vif=round(1/(1-rsq),2)\n",
    "        vif_df.loc[i] = [xvar_names[i], vif]\n",
    "    return vif_df.sort_values(by = 'Vif', axis=0, ascending=False, inplace=False)"
   ]
  },
  {
   "cell_type": "markdown",
   "metadata": {},
   "source": [
    "### RFE"
   ]
  },
  {
   "cell_type": "code",
   "execution_count": 108,
   "metadata": {},
   "outputs": [],
   "source": [
    "# Importing RFE and LinearRegression\n",
    "from sklearn.feature_selection import RFE\n",
    "from sklearn.linear_model import LinearRegression"
   ]
  },
  {
   "cell_type": "code",
   "execution_count": 109,
   "metadata": {},
   "outputs": [
    {
     "name": "stdout",
     "output_type": "stream",
     "text": [
      "[ True False  True  True  True False False  True  True False  True False\n",
      " False  True  True]\n",
      "[1 3 1 1 1 4 6 1 1 2 1 7 5 1 1]\n"
     ]
    }
   ],
   "source": [
    "# Running RFE with the output number of the variable equal to 9\n",
    "lm = LinearRegression()\n",
    "rfe = RFE(lm, 9)             # running RFE\n",
    "rfe = rfe.fit(X_train, y_train)\n",
    "print(rfe.support_)           # Printing the boolean results\n",
    "print(rfe.ranking_)  "
   ]
  },
  {
   "cell_type": "code",
   "execution_count": 110,
   "metadata": {},
   "outputs": [
    {
     "data": {
      "text/plain": [
       "Index(['area', 'bathrooms', 'stories', 'mainroad', 'hotwaterheating',\n",
       "       'airconditioning', 'prefarea', 'areaperbedroom', 'bbratio'],\n",
       "      dtype='object')"
      ]
     },
     "execution_count": 110,
     "metadata": {},
     "output_type": "execute_result"
    }
   ],
   "source": [
    "X_train.columns[rfe.support_]"
   ]
  },
  {
   "cell_type": "code",
   "execution_count": 111,
   "metadata": {
    "scrolled": true
   },
   "outputs": [
    {
     "data": {
      "text/plain": [
       "Index(['area', 'bedrooms', 'bathrooms', 'stories', 'mainroad', 'guestroom',\n",
       "       'basement', 'hotwaterheating', 'airconditioning', 'parking', 'prefarea',\n",
       "       'semi-furnished', 'unfurnished', 'areaperbedroom', 'bbratio'],\n",
       "      dtype='object')"
      ]
     },
     "execution_count": 111,
     "metadata": {},
     "output_type": "execute_result"
    }
   ],
   "source": [
    "X_train.columns"
   ]
  },
  {
   "cell_type": "code",
   "execution_count": 112,
   "metadata": {},
   "outputs": [],
   "source": [
    "col = ['area', 'bathrooms', 'stories', 'mainroad', 'hotwaterheating','airconditioning', 'prefarea', 'areaperbedroom', 'bbratio']"
   ]
  },
  {
   "cell_type": "markdown",
   "metadata": {},
   "source": [
    "### Building model using sklearn"
   ]
  },
  {
   "cell_type": "code",
   "execution_count": 113,
   "metadata": {},
   "outputs": [],
   "source": [
    "# Creating X_test dataframe with RFE selected variables\n",
    "X_train_rfe = X_train[col]"
   ]
  },
  {
   "cell_type": "code",
   "execution_count": 114,
   "metadata": {},
   "outputs": [],
   "source": [
    "# Adding a constant variable \n",
    "import statsmodels.api as sm  \n",
    "X_train_rfe = sm.add_constant(X_train_rfe)"
   ]
  },
  {
   "cell_type": "code",
   "execution_count": 115,
   "metadata": {},
   "outputs": [],
   "source": [
    "lm = sm.OLS(y_train,X_train_rfe).fit()   # Running the linear model"
   ]
  },
  {
   "cell_type": "code",
   "execution_count": 116,
   "metadata": {},
   "outputs": [
    {
     "name": "stdout",
     "output_type": "stream",
     "text": [
      "                            OLS Regression Results                            \n",
      "==============================================================================\n",
      "Dep. Variable:                  price   R-squared:                       0.660\n",
      "Model:                            OLS   Adj. R-squared:                  0.652\n",
      "Method:                 Least Squares   F-statistic:                     80.14\n",
      "Date:                Fri, 20 Jul 2018   Prob (F-statistic):           1.88e-81\n",
      "Time:                        06:46:28   Log-Likelihood:                 369.54\n",
      "No. Observations:                 381   AIC:                            -719.1\n",
      "Df Residuals:                     371   BIC:                            -679.7\n",
      "Df Model:                           9                                         \n",
      "Covariance Type:            nonrobust                                         \n",
      "===================================================================================\n",
      "                      coef    std err          t      P>|t|      [0.025      0.975]\n",
      "-----------------------------------------------------------------------------------\n",
      "const               0.0034      0.005      0.704      0.482      -0.006       0.013\n",
      "area                0.7022      0.130      5.421      0.000       0.447       0.957\n",
      "bathrooms           0.1718      0.098      1.759      0.079      -0.020       0.364\n",
      "stories             0.0814      0.019      4.321      0.000       0.044       0.118\n",
      "mainroad            0.0647      0.014      4.470      0.000       0.036       0.093\n",
      "hotwaterheating     0.1002      0.022      4.523      0.000       0.057       0.144\n",
      "airconditioning     0.0776      0.011      6.806      0.000       0.055       0.100\n",
      "prefarea            0.0631      0.012      5.286      0.000       0.040       0.087\n",
      "areaperbedroom     -0.4095      0.143     -2.868      0.004      -0.690      -0.129\n",
      "bbratio             0.1156      0.080      1.450      0.148      -0.041       0.272\n",
      "==============================================================================\n",
      "Omnibus:                       85.512   Durbin-Watson:                   2.108\n",
      "Prob(Omnibus):                  0.000   Jarque-Bera (JB):              273.429\n",
      "Skew:                           0.998   Prob(JB):                     4.22e-60\n",
      "Kurtosis:                       6.638   Cond. No.                         46.6\n",
      "==============================================================================\n",
      "\n",
      "Warnings:\n",
      "[1] Standard Errors assume that the covariance matrix of the errors is correctly specified.\n"
     ]
    }
   ],
   "source": [
    "#Let's see the summary of our linear model\n",
    "print(lm.summary())"
   ]
  },
  {
   "cell_type": "code",
   "execution_count": 117,
   "metadata": {},
   "outputs": [
    {
     "data": {
      "text/html": [
       "<div>\n",
       "<style scoped>\n",
       "    .dataframe tbody tr th:only-of-type {\n",
       "        vertical-align: middle;\n",
       "    }\n",
       "\n",
       "    .dataframe tbody tr th {\n",
       "        vertical-align: top;\n",
       "    }\n",
       "\n",
       "    .dataframe thead th {\n",
       "        text-align: right;\n",
       "    }\n",
       "</style>\n",
       "<table border=\"1\" class=\"dataframe\">\n",
       "  <thead>\n",
       "    <tr style=\"text-align: right;\">\n",
       "      <th></th>\n",
       "      <th>Var</th>\n",
       "      <th>Vif</th>\n",
       "    </tr>\n",
       "  </thead>\n",
       "  <tbody>\n",
       "    <tr>\n",
       "      <th>0</th>\n",
       "      <td>bathrooms</td>\n",
       "      <td>2.35</td>\n",
       "    </tr>\n",
       "    <tr>\n",
       "      <th>8</th>\n",
       "      <td>bbratio</td>\n",
       "      <td>2.19</td>\n",
       "    </tr>\n",
       "    <tr>\n",
       "      <th>5</th>\n",
       "      <td>parking</td>\n",
       "      <td>1.12</td>\n",
       "    </tr>\n",
       "    <tr>\n",
       "      <th>4</th>\n",
       "      <td>airconditioning</td>\n",
       "      <td>1.11</td>\n",
       "    </tr>\n",
       "    <tr>\n",
       "      <th>1</th>\n",
       "      <td>mainroad</td>\n",
       "      <td>1.10</td>\n",
       "    </tr>\n",
       "    <tr>\n",
       "      <th>6</th>\n",
       "      <td>prefarea</td>\n",
       "      <td>1.09</td>\n",
       "    </tr>\n",
       "    <tr>\n",
       "      <th>7</th>\n",
       "      <td>unfurnished</td>\n",
       "      <td>1.07</td>\n",
       "    </tr>\n",
       "    <tr>\n",
       "      <th>2</th>\n",
       "      <td>guestroom</td>\n",
       "      <td>1.06</td>\n",
       "    </tr>\n",
       "    <tr>\n",
       "      <th>3</th>\n",
       "      <td>hotwaterheating</td>\n",
       "      <td>1.04</td>\n",
       "    </tr>\n",
       "  </tbody>\n",
       "</table>\n",
       "</div>"
      ],
      "text/plain": [
       "               Var   Vif\n",
       "0        bathrooms  2.35\n",
       "8          bbratio  2.19\n",
       "5          parking  1.12\n",
       "4  airconditioning  1.11\n",
       "1         mainroad  1.10\n",
       "6         prefarea  1.09\n",
       "7      unfurnished  1.07\n",
       "2        guestroom  1.06\n",
       "3  hotwaterheating  1.04"
      ]
     },
     "execution_count": 117,
     "metadata": {},
     "output_type": "execute_result"
    }
   ],
   "source": [
    "# Calculating Vif value\n",
    "vif_cal(input_data=housing.drop(['area','bedrooms','stories','basement','semi-furnished','areaperbedroom'], axis=1), dependent_col=\"price\")"
   ]
  },
  {
   "cell_type": "markdown",
   "metadata": {},
   "source": [
    "## Making Predictions"
   ]
  },
  {
   "cell_type": "code",
   "execution_count": 118,
   "metadata": {},
   "outputs": [],
   "source": [
    "# Now let's use our model to make predictions.\n",
    "\n",
    "# Creating X_test_6 dataframe by dropping variables from X_test\n",
    "X_test_rfe = X_test[col]\n",
    "\n",
    "# Adding a constant variable \n",
    "X_test_rfe = sm.add_constant(X_test_rfe)\n",
    "\n",
    "# Making predictions\n",
    "y_pred = lm.predict(X_test_rfe)"
   ]
  },
  {
   "cell_type": "markdown",
   "metadata": {},
   "source": [
    "## Model Evaluation"
   ]
  },
  {
   "cell_type": "code",
   "execution_count": 119,
   "metadata": {},
   "outputs": [],
   "source": [
    "# Now let's check how well our model is able to make predictions.\n",
    "\n",
    "# Importing the required libraries for plots.\n",
    "import matplotlib.pyplot as plt\n",
    "import seaborn as sns\n",
    "%matplotlib inline"
   ]
  },
  {
   "cell_type": "code",
   "execution_count": 120,
   "metadata": {},
   "outputs": [
    {
     "data": {
      "text/plain": [
       "<matplotlib.text.Text at 0x1d2be06fb70>"
      ]
     },
     "execution_count": 120,
     "metadata": {},
     "output_type": "execute_result"
    },
    {
     "data": {
      "image/png": "[encoded data removed]",
      "text/plain": [
       "<matplotlib.figure.Figure at 0x1d2bcf49828>"
      ]
     },
     "metadata": {},
     "output_type": "display_data"
    }
   ],
   "source": [
    "# Actual and Predicted\n",
    "import matplotlib.pyplot as plt\n",
    "c = [i for i in range(1,165,1)] # generating index \n",
    "fig = plt.figure() \n",
    "plt.plot(c,y_test, color=\"blue\", linewidth=2.5, linestyle=\"-\") #Plotting Actual\n",
    "plt.plot(c,y_pred, color=\"red\",  linewidth=2.5, linestyle=\"-\") #Plotting predicted\n",
    "fig.suptitle('Actual and Predicted', fontsize=20)              # Plot heading \n",
    "plt.xlabel('Index', fontsize=18)                               # X-label\n",
    "plt.ylabel('Housing Price', fontsize=16)                       # Y-label"
   ]
  },
  {
   "cell_type": "code",
   "execution_count": 121,
   "metadata": {},
   "outputs": [
    {
     "data": {
      "text/plain": [
       "<matplotlib.text.Text at 0x1d2be10b128>"
      ]
     },
     "execution_count": 121,
     "metadata": {},
     "output_type": "execute_result"
    },
    {
     "data": {
      "image/png": "[encoded data removed]",
      "text/plain": [
       "<matplotlib.figure.Figure at 0x1d2be0d9b00>"
      ]
     },
     "metadata": {},
     "output_type": "display_data"
    }
   ],
   "source": [
    "# Error terms\n",
    "c = [i for i in range(1,165,1)]\n",
    "fig = plt.figure()\n",
    "plt.plot(c,y_test-y_pred, color=\"blue\", linewidth=2.5, linestyle=\"-\")\n",
    "fig.suptitle('Error Terms', fontsize=20)              # Plot heading \n",
    "plt.xlabel('Index', fontsize=18)                      # X-label\n",
    "plt.ylabel('ytest-ypred', fontsize=16)                # Y-label"
   ]
  },
  {
   "cell_type": "code",
   "execution_count": 122,
   "metadata": {},
   "outputs": [
    {
     "data": {
      "text/plain": [
       "<matplotlib.text.Text at 0x1d2be182a20>"
      ]
     },
     "execution_count": 122,
     "metadata": {},
     "output_type": "execute_result"
    },
    {
     "data": {
      "image/png": "[encoded data removed]",
      "text/plain": [
       "<matplotlib.figure.Figure at 0x1d2be0de978>"
      ]
     },
     "metadata": {},
     "output_type": "display_data"
    }
   ],
   "source": [
    "# Plotting y_test and y_pred to understand the spread.\n",
    "fig = plt.figure()\n",
    "plt.scatter(y_test,y_pred)\n",
    "fig.suptitle('y_test vs y_pred', fontsize=20)              # Plot heading \n",
    "plt.xlabel('y_test', fontsize=18)                          # X-label\n",
    "plt.ylabel('y_pred', fontsize=16)                          # Y-label"
   ]
  },
  {
   "cell_type": "code",
   "execution_count": 123,
   "metadata": {},
   "outputs": [
    {
     "data": {
      "text/plain": [
       "<matplotlib.text.Text at 0x1d2be192a90>"
      ]
     },
     "execution_count": 123,
     "metadata": {},
     "output_type": "execute_result"
    },
    {
     "data": {
      "image/png": "[encoded data removed]",
      "text/plain": [
       "<matplotlib.figure.Figure at 0x1d2be1ec588>"
      ]
     },
     "metadata": {},
     "output_type": "display_data"
    }
   ],
   "source": [
    "# Plotting the error terms to understand the distribution.\n",
    "fig = plt.figure()\n",
    "sns.distplot((y_test-y_pred),bins=50)\n",
    "fig.suptitle('Error Terms', fontsize=20)                  # Plot heading \n",
    "plt.xlabel('y_test-y_pred', fontsize=18)                  # X-label\n",
    "plt.ylabel('Index', fontsize=16)                          # Y-label"
   ]
  },
  {
   "cell_type": "code",
   "execution_count": 125,
   "metadata": {},
   "outputs": [
    {
     "name": "stdout",
     "output_type": "stream",
     "text": [
      "RMSE : 0.10820352538131701\n",
      "RMSE : 0.6021721774706443\n"
     ]
    }
   ],
   "source": [
    "# Now let's check the Root Mean Square Error of our model.\n",
    "import numpy as np\n",
    "from sklearn import metrics\n",
    "print('RMSE :', np.sqrt(metrics.mean_squared_error(y_test, y_pred)))\n",
    "print('R-square :', metrics.r2_score(y_test, y_pred))"
   ]
  },
  {
   "cell_type": "code",
   "execution_count": null,
   "metadata": {},
   "outputs": [],
   "source": []
  }
 ],
 "metadata": {
  "kernelspec": {
   "display_name": "Python 3",
   "language": "python",
   "name": "python3"
  },
  "language_info": {
   "codemirror_mode": {
    "name": "ipython",
    "version": 3
   },
   "file_extension": ".py",
   "mimetype": "text/x-python",
   "name": "python",
   "nbconvert_exporter": "python",
   "pygments_lexer": "ipython3",
   "version": "3.6.5"
  }
 },
 "nbformat": 4,
 "nbformat_minor": 2
}
